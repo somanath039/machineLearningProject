{
 "cells": [
  {
   "cell_type": "markdown",
   "metadata": {},
   "source": [
    "# Solution"
   ]
  },
  {
   "cell_type": "markdown",
   "metadata": {},
   "source": [
    "## Read the column description and ensure you understand each attribute well"
   ]
  },
  {
   "cell_type": "code",
   "execution_count": 1,
   "metadata": {},
   "outputs": [],
   "source": [
    "# importing all required Libraries\n",
    "import pandas as pd\n",
    "import seaborn as sns\n",
    "import numpy as np\n",
    "import matplotlib.pyplot as plt\n",
    "from scipy import stats\n",
    "\n",
    "import warnings\n",
    "warnings.filterwarnings('ignore')\n",
    "# import pandas_profiling"
   ]
  },
  {
   "cell_type": "code",
   "execution_count": 2,
   "metadata": {},
   "outputs": [
    {
     "name": "stdout",
     "output_type": "stream",
     "text": [
      "shape of DataFrame :   (5000, 14)\n",
      "<class 'pandas.core.frame.DataFrame'>\n",
      "RangeIndex: 5000 entries, 0 to 4999\n",
      "Data columns (total 14 columns):\n",
      "ID                    5000 non-null int64\n",
      "Age                   5000 non-null int64\n",
      "Experience            5000 non-null int64\n",
      "Income                5000 non-null int64\n",
      "ZIP Code              5000 non-null int64\n",
      "Family                5000 non-null int64\n",
      "CCAvg                 5000 non-null float64\n",
      "Education             5000 non-null int64\n",
      "Mortgage              5000 non-null int64\n",
      "Personal Loan         5000 non-null int64\n",
      "Securities Account    5000 non-null int64\n",
      "CD Account            5000 non-null int64\n",
      "Online                5000 non-null int64\n",
      "CreditCard            5000 non-null int64\n",
      "dtypes: float64(1), int64(13)\n",
      "memory usage: 547.0 KB\n"
     ]
    }
   ],
   "source": [
    "bank_df = pd.read_csv('Bank_Personal_Loan_Modelling.csv')\n",
    "print(f'shape of DataFrame :   {bank_df.shape}')\n",
    "bank_df.info()"
   ]
  },
  {
   "cell_type": "code",
   "execution_count": 3,
   "metadata": {},
   "outputs": [
    {
     "data": {
      "text/html": [
       "<div>\n",
       "<style scoped>\n",
       "    .dataframe tbody tr th:only-of-type {\n",
       "        vertical-align: middle;\n",
       "    }\n",
       "\n",
       "    .dataframe tbody tr th {\n",
       "        vertical-align: top;\n",
       "    }\n",
       "\n",
       "    .dataframe thead th {\n",
       "        text-align: right;\n",
       "    }\n",
       "</style>\n",
       "<table border=\"1\" class=\"dataframe\">\n",
       "  <thead>\n",
       "    <tr style=\"text-align: right;\">\n",
       "      <th></th>\n",
       "      <th>ID</th>\n",
       "      <th>Age</th>\n",
       "      <th>Experience</th>\n",
       "      <th>Income</th>\n",
       "      <th>ZIP Code</th>\n",
       "      <th>Family</th>\n",
       "      <th>CCAvg</th>\n",
       "      <th>Education</th>\n",
       "      <th>Mortgage</th>\n",
       "      <th>Personal Loan</th>\n",
       "      <th>Securities Account</th>\n",
       "      <th>CD Account</th>\n",
       "      <th>Online</th>\n",
       "      <th>CreditCard</th>\n",
       "    </tr>\n",
       "  </thead>\n",
       "  <tbody>\n",
       "    <tr>\n",
       "      <th>count</th>\n",
       "      <td>5000.000000</td>\n",
       "      <td>5000.000000</td>\n",
       "      <td>5000.000000</td>\n",
       "      <td>5000.000000</td>\n",
       "      <td>5000.000000</td>\n",
       "      <td>5000.000000</td>\n",
       "      <td>5000.000000</td>\n",
       "      <td>5000.000000</td>\n",
       "      <td>5000.000000</td>\n",
       "      <td>5000.000000</td>\n",
       "      <td>5000.000000</td>\n",
       "      <td>5000.00000</td>\n",
       "      <td>5000.000000</td>\n",
       "      <td>5000.000000</td>\n",
       "    </tr>\n",
       "    <tr>\n",
       "      <th>mean</th>\n",
       "      <td>2500.500000</td>\n",
       "      <td>45.338400</td>\n",
       "      <td>20.104600</td>\n",
       "      <td>73.774200</td>\n",
       "      <td>93152.503000</td>\n",
       "      <td>2.396400</td>\n",
       "      <td>1.937938</td>\n",
       "      <td>1.881000</td>\n",
       "      <td>56.498800</td>\n",
       "      <td>0.096000</td>\n",
       "      <td>0.104400</td>\n",
       "      <td>0.06040</td>\n",
       "      <td>0.596800</td>\n",
       "      <td>0.294000</td>\n",
       "    </tr>\n",
       "    <tr>\n",
       "      <th>std</th>\n",
       "      <td>1443.520003</td>\n",
       "      <td>11.463166</td>\n",
       "      <td>11.467954</td>\n",
       "      <td>46.033729</td>\n",
       "      <td>2121.852197</td>\n",
       "      <td>1.147663</td>\n",
       "      <td>1.747659</td>\n",
       "      <td>0.839869</td>\n",
       "      <td>101.713802</td>\n",
       "      <td>0.294621</td>\n",
       "      <td>0.305809</td>\n",
       "      <td>0.23825</td>\n",
       "      <td>0.490589</td>\n",
       "      <td>0.455637</td>\n",
       "    </tr>\n",
       "    <tr>\n",
       "      <th>min</th>\n",
       "      <td>1.000000</td>\n",
       "      <td>23.000000</td>\n",
       "      <td>-3.000000</td>\n",
       "      <td>8.000000</td>\n",
       "      <td>9307.000000</td>\n",
       "      <td>1.000000</td>\n",
       "      <td>0.000000</td>\n",
       "      <td>1.000000</td>\n",
       "      <td>0.000000</td>\n",
       "      <td>0.000000</td>\n",
       "      <td>0.000000</td>\n",
       "      <td>0.00000</td>\n",
       "      <td>0.000000</td>\n",
       "      <td>0.000000</td>\n",
       "    </tr>\n",
       "    <tr>\n",
       "      <th>25%</th>\n",
       "      <td>1250.750000</td>\n",
       "      <td>35.000000</td>\n",
       "      <td>10.000000</td>\n",
       "      <td>39.000000</td>\n",
       "      <td>91911.000000</td>\n",
       "      <td>1.000000</td>\n",
       "      <td>0.700000</td>\n",
       "      <td>1.000000</td>\n",
       "      <td>0.000000</td>\n",
       "      <td>0.000000</td>\n",
       "      <td>0.000000</td>\n",
       "      <td>0.00000</td>\n",
       "      <td>0.000000</td>\n",
       "      <td>0.000000</td>\n",
       "    </tr>\n",
       "    <tr>\n",
       "      <th>50%</th>\n",
       "      <td>2500.500000</td>\n",
       "      <td>45.000000</td>\n",
       "      <td>20.000000</td>\n",
       "      <td>64.000000</td>\n",
       "      <td>93437.000000</td>\n",
       "      <td>2.000000</td>\n",
       "      <td>1.500000</td>\n",
       "      <td>2.000000</td>\n",
       "      <td>0.000000</td>\n",
       "      <td>0.000000</td>\n",
       "      <td>0.000000</td>\n",
       "      <td>0.00000</td>\n",
       "      <td>1.000000</td>\n",
       "      <td>0.000000</td>\n",
       "    </tr>\n",
       "    <tr>\n",
       "      <th>75%</th>\n",
       "      <td>3750.250000</td>\n",
       "      <td>55.000000</td>\n",
       "      <td>30.000000</td>\n",
       "      <td>98.000000</td>\n",
       "      <td>94608.000000</td>\n",
       "      <td>3.000000</td>\n",
       "      <td>2.500000</td>\n",
       "      <td>3.000000</td>\n",
       "      <td>101.000000</td>\n",
       "      <td>0.000000</td>\n",
       "      <td>0.000000</td>\n",
       "      <td>0.00000</td>\n",
       "      <td>1.000000</td>\n",
       "      <td>1.000000</td>\n",
       "    </tr>\n",
       "    <tr>\n",
       "      <th>max</th>\n",
       "      <td>5000.000000</td>\n",
       "      <td>67.000000</td>\n",
       "      <td>43.000000</td>\n",
       "      <td>224.000000</td>\n",
       "      <td>96651.000000</td>\n",
       "      <td>4.000000</td>\n",
       "      <td>10.000000</td>\n",
       "      <td>3.000000</td>\n",
       "      <td>635.000000</td>\n",
       "      <td>1.000000</td>\n",
       "      <td>1.000000</td>\n",
       "      <td>1.00000</td>\n",
       "      <td>1.000000</td>\n",
       "      <td>1.000000</td>\n",
       "    </tr>\n",
       "  </tbody>\n",
       "</table>\n",
       "</div>"
      ],
      "text/plain": [
       "                ID          Age   Experience       Income      ZIP Code  \\\n",
       "count  5000.000000  5000.000000  5000.000000  5000.000000   5000.000000   \n",
       "mean   2500.500000    45.338400    20.104600    73.774200  93152.503000   \n",
       "std    1443.520003    11.463166    11.467954    46.033729   2121.852197   \n",
       "min       1.000000    23.000000    -3.000000     8.000000   9307.000000   \n",
       "25%    1250.750000    35.000000    10.000000    39.000000  91911.000000   \n",
       "50%    2500.500000    45.000000    20.000000    64.000000  93437.000000   \n",
       "75%    3750.250000    55.000000    30.000000    98.000000  94608.000000   \n",
       "max    5000.000000    67.000000    43.000000   224.000000  96651.000000   \n",
       "\n",
       "            Family        CCAvg    Education     Mortgage  Personal Loan  \\\n",
       "count  5000.000000  5000.000000  5000.000000  5000.000000    5000.000000   \n",
       "mean      2.396400     1.937938     1.881000    56.498800       0.096000   \n",
       "std       1.147663     1.747659     0.839869   101.713802       0.294621   \n",
       "min       1.000000     0.000000     1.000000     0.000000       0.000000   \n",
       "25%       1.000000     0.700000     1.000000     0.000000       0.000000   \n",
       "50%       2.000000     1.500000     2.000000     0.000000       0.000000   \n",
       "75%       3.000000     2.500000     3.000000   101.000000       0.000000   \n",
       "max       4.000000    10.000000     3.000000   635.000000       1.000000   \n",
       "\n",
       "       Securities Account  CD Account       Online   CreditCard  \n",
       "count         5000.000000  5000.00000  5000.000000  5000.000000  \n",
       "mean             0.104400     0.06040     0.596800     0.294000  \n",
       "std              0.305809     0.23825     0.490589     0.455637  \n",
       "min              0.000000     0.00000     0.000000     0.000000  \n",
       "25%              0.000000     0.00000     0.000000     0.000000  \n",
       "50%              0.000000     0.00000     1.000000     0.000000  \n",
       "75%              0.000000     0.00000     1.000000     1.000000  \n",
       "max              1.000000     1.00000     1.000000     1.000000  "
      ]
     },
     "execution_count": 3,
     "metadata": {},
     "output_type": "execute_result"
    }
   ],
   "source": [
    "bank_df.describe() "
   ]
  },
  {
   "cell_type": "code",
   "execution_count": 4,
   "metadata": {},
   "outputs": [
    {
     "data": {
      "text/html": [
       "<div>\n",
       "<style scoped>\n",
       "    .dataframe tbody tr th:only-of-type {\n",
       "        vertical-align: middle;\n",
       "    }\n",
       "\n",
       "    .dataframe tbody tr th {\n",
       "        vertical-align: top;\n",
       "    }\n",
       "\n",
       "    .dataframe thead th {\n",
       "        text-align: right;\n",
       "    }\n",
       "</style>\n",
       "<table border=\"1\" class=\"dataframe\">\n",
       "  <thead>\n",
       "    <tr style=\"text-align: right;\">\n",
       "      <th></th>\n",
       "      <th>ID</th>\n",
       "      <th>Age</th>\n",
       "      <th>Experience</th>\n",
       "      <th>Income</th>\n",
       "      <th>ZIP Code</th>\n",
       "      <th>Family</th>\n",
       "      <th>CCAvg</th>\n",
       "      <th>Education</th>\n",
       "      <th>Mortgage</th>\n",
       "      <th>Personal Loan</th>\n",
       "      <th>Securities Account</th>\n",
       "      <th>CD Account</th>\n",
       "      <th>Online</th>\n",
       "      <th>CreditCard</th>\n",
       "    </tr>\n",
       "  </thead>\n",
       "  <tbody>\n",
       "    <tr>\n",
       "      <th>0</th>\n",
       "      <td>1</td>\n",
       "      <td>25</td>\n",
       "      <td>1</td>\n",
       "      <td>49</td>\n",
       "      <td>91107</td>\n",
       "      <td>4</td>\n",
       "      <td>1.6</td>\n",
       "      <td>1</td>\n",
       "      <td>0</td>\n",
       "      <td>0</td>\n",
       "      <td>1</td>\n",
       "      <td>0</td>\n",
       "      <td>0</td>\n",
       "      <td>0</td>\n",
       "    </tr>\n",
       "    <tr>\n",
       "      <th>1</th>\n",
       "      <td>2</td>\n",
       "      <td>45</td>\n",
       "      <td>19</td>\n",
       "      <td>34</td>\n",
       "      <td>90089</td>\n",
       "      <td>3</td>\n",
       "      <td>1.5</td>\n",
       "      <td>1</td>\n",
       "      <td>0</td>\n",
       "      <td>0</td>\n",
       "      <td>1</td>\n",
       "      <td>0</td>\n",
       "      <td>0</td>\n",
       "      <td>0</td>\n",
       "    </tr>\n",
       "    <tr>\n",
       "      <th>2</th>\n",
       "      <td>3</td>\n",
       "      <td>39</td>\n",
       "      <td>15</td>\n",
       "      <td>11</td>\n",
       "      <td>94720</td>\n",
       "      <td>1</td>\n",
       "      <td>1.0</td>\n",
       "      <td>1</td>\n",
       "      <td>0</td>\n",
       "      <td>0</td>\n",
       "      <td>0</td>\n",
       "      <td>0</td>\n",
       "      <td>0</td>\n",
       "      <td>0</td>\n",
       "    </tr>\n",
       "    <tr>\n",
       "      <th>3</th>\n",
       "      <td>4</td>\n",
       "      <td>35</td>\n",
       "      <td>9</td>\n",
       "      <td>100</td>\n",
       "      <td>94112</td>\n",
       "      <td>1</td>\n",
       "      <td>2.7</td>\n",
       "      <td>2</td>\n",
       "      <td>0</td>\n",
       "      <td>0</td>\n",
       "      <td>0</td>\n",
       "      <td>0</td>\n",
       "      <td>0</td>\n",
       "      <td>0</td>\n",
       "    </tr>\n",
       "    <tr>\n",
       "      <th>4</th>\n",
       "      <td>5</td>\n",
       "      <td>35</td>\n",
       "      <td>8</td>\n",
       "      <td>45</td>\n",
       "      <td>91330</td>\n",
       "      <td>4</td>\n",
       "      <td>1.0</td>\n",
       "      <td>2</td>\n",
       "      <td>0</td>\n",
       "      <td>0</td>\n",
       "      <td>0</td>\n",
       "      <td>0</td>\n",
       "      <td>0</td>\n",
       "      <td>1</td>\n",
       "    </tr>\n",
       "  </tbody>\n",
       "</table>\n",
       "</div>"
      ],
      "text/plain": [
       "   ID  Age  Experience  Income  ZIP Code  Family  CCAvg  Education  Mortgage  \\\n",
       "0   1   25           1      49     91107       4    1.6          1         0   \n",
       "1   2   45          19      34     90089       3    1.5          1         0   \n",
       "2   3   39          15      11     94720       1    1.0          1         0   \n",
       "3   4   35           9     100     94112       1    2.7          2         0   \n",
       "4   5   35           8      45     91330       4    1.0          2         0   \n",
       "\n",
       "   Personal Loan  Securities Account  CD Account  Online  CreditCard  \n",
       "0              0                   1           0       0           0  \n",
       "1              0                   1           0       0           0  \n",
       "2              0                   0           0       0           0  \n",
       "3              0                   0           0       0           0  \n",
       "4              0                   0           0       0           1  "
      ]
     },
     "execution_count": 4,
     "metadata": {},
     "output_type": "execute_result"
    }
   ],
   "source": [
    "bank_df.head()"
   ]
  },
  {
   "cell_type": "markdown",
   "metadata": {},
   "source": [
    "## Univariate analysis"
   ]
  },
  {
   "cell_type": "code",
   "execution_count": 5,
   "metadata": {},
   "outputs": [
    {
     "data": {
      "text/plain": [
       "<matplotlib.axes._subplots.AxesSubplot at 0x102b439e8>"
      ]
     },
     "execution_count": 5,
     "metadata": {},
     "output_type": "execute_result"
    },
    {
     "data": {
      "image/png": "[encoded data removed]",
      "text/plain": [
       "<Figure size 1080x360 with 3 Axes>"
      ]
     },
     "metadata": {
      "needs_background": "light"
     },
     "output_type": "display_data"
    },
    {
     "data": {
      "image/png": "[encoded data removed]",
      "text/plain": [
       "<Figure size 1080x360 with 2 Axes>"
      ]
     },
     "metadata": {
      "needs_background": "light"
     },
     "output_type": "display_data"
    }
   ],
   "source": [
    "f, axes = plt.subplots(1, 3, figsize=(15, 5))\n",
    "sns.boxplot(x=bank_df['Age'], data=bank_df,  ax=axes[0])\n",
    "sns.boxplot(x=bank_df['Experience'], data=bank_df,  ax=axes[1])\n",
    "sns.boxplot(x=bank_df['Income'], data=bank_df,  ax=axes[2])\n",
    "f, axes = plt.subplots(1, 2, figsize=(15, 5))\n",
    "sns.boxplot(x=bank_df['CCAvg'], data=bank_df,  ax=axes[0])\n",
    "sns.boxplot(x=bank_df['Mortgage'], data=bank_df,  ax=axes[1])"
   ]
  },
  {
   "cell_type": "markdown",
   "metadata": {
    "scrolled": false
   },
   "source": [
    "by the above box plots we can see lots of outliers in cc Avg and Mortgate column "
   ]
  },
  {
   "cell_type": "code",
   "execution_count": 6,
   "metadata": {},
   "outputs": [
    {
     "data": {
      "text/plain": [
       "<matplotlib.axes._subplots.AxesSubplot at 0x11e583320>"
      ]
     },
     "execution_count": 6,
     "metadata": {},
     "output_type": "execute_result"
    },
    {
     "data": {
      "image/png": "[encoded data removed]",
      "text/plain": [
       "<Figure size 1080x360 with 2 Axes>"
      ]
     },
     "metadata": {
      "needs_background": "light"
     },
     "output_type": "display_data"
    }
   ],
   "source": [
    "# 1: Undergrad; 2: Graduate;3: Advanced/Professional\n",
    "f, axes = plt.subplots(1, 2, figsize=(15, 5))\n",
    "sns.countplot(x=\"Education\", data=bank_df, ax=axes[0])\n",
    "sns.countplot(x=\"Family\", data=bank_df, ax= axes[1])"
   ]
  },
  {
   "cell_type": "markdown",
   "metadata": {},
   "source": [
    "from the data we can see that there are more undergrauate and customer with one falily members are lot \n",
    "\n",
    "- 42% of the candidates are graduated, while 30% are professional and 28% are Undergraduate.\n",
    "- Around 29% of the customer’s family size is 1."
   ]
  },
  {
   "cell_type": "markdown",
   "metadata": {},
   "source": [
    "## Multivariate analysis"
   ]
  },
  {
   "cell_type": "markdown",
   "metadata": {},
   "source": [
    "lets see the correlation between all the attributes first"
   ]
  },
  {
   "cell_type": "code",
   "execution_count": 7,
   "metadata": {},
   "outputs": [
    {
     "data": {
      "text/html": [
       "<div>\n",
       "<style scoped>\n",
       "    .dataframe tbody tr th:only-of-type {\n",
       "        vertical-align: middle;\n",
       "    }\n",
       "\n",
       "    .dataframe tbody tr th {\n",
       "        vertical-align: top;\n",
       "    }\n",
       "\n",
       "    .dataframe thead th {\n",
       "        text-align: right;\n",
       "    }\n",
       "</style>\n",
       "<table border=\"1\" class=\"dataframe\">\n",
       "  <thead>\n",
       "    <tr style=\"text-align: right;\">\n",
       "      <th></th>\n",
       "      <th>ID</th>\n",
       "      <th>Age</th>\n",
       "      <th>Experience</th>\n",
       "      <th>Income</th>\n",
       "      <th>ZIP Code</th>\n",
       "      <th>Family</th>\n",
       "      <th>CCAvg</th>\n",
       "      <th>Education</th>\n",
       "      <th>Mortgage</th>\n",
       "      <th>Personal Loan</th>\n",
       "      <th>Securities Account</th>\n",
       "      <th>CD Account</th>\n",
       "      <th>Online</th>\n",
       "      <th>CreditCard</th>\n",
       "    </tr>\n",
       "  </thead>\n",
       "  <tbody>\n",
       "    <tr>\n",
       "      <th>ID</th>\n",
       "      <td>1.000000</td>\n",
       "      <td>-0.008473</td>\n",
       "      <td>-0.008326</td>\n",
       "      <td>-0.017695</td>\n",
       "      <td>0.013432</td>\n",
       "      <td>-0.016797</td>\n",
       "      <td>-0.024675</td>\n",
       "      <td>0.021463</td>\n",
       "      <td>-0.013920</td>\n",
       "      <td>-0.024801</td>\n",
       "      <td>-0.016972</td>\n",
       "      <td>-0.006909</td>\n",
       "      <td>-0.002528</td>\n",
       "      <td>0.017028</td>\n",
       "    </tr>\n",
       "    <tr>\n",
       "      <th>Age</th>\n",
       "      <td>-0.008473</td>\n",
       "      <td>1.000000</td>\n",
       "      <td>0.994215</td>\n",
       "      <td>-0.055269</td>\n",
       "      <td>-0.029216</td>\n",
       "      <td>-0.046418</td>\n",
       "      <td>-0.052012</td>\n",
       "      <td>0.041334</td>\n",
       "      <td>-0.012539</td>\n",
       "      <td>-0.007726</td>\n",
       "      <td>-0.000436</td>\n",
       "      <td>0.008043</td>\n",
       "      <td>0.013702</td>\n",
       "      <td>0.007681</td>\n",
       "    </tr>\n",
       "    <tr>\n",
       "      <th>Experience</th>\n",
       "      <td>-0.008326</td>\n",
       "      <td>0.994215</td>\n",
       "      <td>1.000000</td>\n",
       "      <td>-0.046574</td>\n",
       "      <td>-0.028626</td>\n",
       "      <td>-0.052563</td>\n",
       "      <td>-0.050077</td>\n",
       "      <td>0.013152</td>\n",
       "      <td>-0.010582</td>\n",
       "      <td>-0.007413</td>\n",
       "      <td>-0.001232</td>\n",
       "      <td>0.010353</td>\n",
       "      <td>0.013898</td>\n",
       "      <td>0.008967</td>\n",
       "    </tr>\n",
       "    <tr>\n",
       "      <th>Income</th>\n",
       "      <td>-0.017695</td>\n",
       "      <td>-0.055269</td>\n",
       "      <td>-0.046574</td>\n",
       "      <td>1.000000</td>\n",
       "      <td>-0.016410</td>\n",
       "      <td>-0.157501</td>\n",
       "      <td>0.645984</td>\n",
       "      <td>-0.187524</td>\n",
       "      <td>0.206806</td>\n",
       "      <td>0.502462</td>\n",
       "      <td>-0.002616</td>\n",
       "      <td>0.169738</td>\n",
       "      <td>0.014206</td>\n",
       "      <td>-0.002385</td>\n",
       "    </tr>\n",
       "    <tr>\n",
       "      <th>ZIP Code</th>\n",
       "      <td>0.013432</td>\n",
       "      <td>-0.029216</td>\n",
       "      <td>-0.028626</td>\n",
       "      <td>-0.016410</td>\n",
       "      <td>1.000000</td>\n",
       "      <td>0.011778</td>\n",
       "      <td>-0.004061</td>\n",
       "      <td>-0.017377</td>\n",
       "      <td>0.007383</td>\n",
       "      <td>0.000107</td>\n",
       "      <td>0.004704</td>\n",
       "      <td>0.019972</td>\n",
       "      <td>0.016990</td>\n",
       "      <td>0.007691</td>\n",
       "    </tr>\n",
       "    <tr>\n",
       "      <th>Family</th>\n",
       "      <td>-0.016797</td>\n",
       "      <td>-0.046418</td>\n",
       "      <td>-0.052563</td>\n",
       "      <td>-0.157501</td>\n",
       "      <td>0.011778</td>\n",
       "      <td>1.000000</td>\n",
       "      <td>-0.109275</td>\n",
       "      <td>0.064929</td>\n",
       "      <td>-0.020445</td>\n",
       "      <td>0.061367</td>\n",
       "      <td>0.019994</td>\n",
       "      <td>0.014110</td>\n",
       "      <td>0.010354</td>\n",
       "      <td>0.011588</td>\n",
       "    </tr>\n",
       "    <tr>\n",
       "      <th>CCAvg</th>\n",
       "      <td>-0.024675</td>\n",
       "      <td>-0.052012</td>\n",
       "      <td>-0.050077</td>\n",
       "      <td>0.645984</td>\n",
       "      <td>-0.004061</td>\n",
       "      <td>-0.109275</td>\n",
       "      <td>1.000000</td>\n",
       "      <td>-0.136124</td>\n",
       "      <td>0.109905</td>\n",
       "      <td>0.366889</td>\n",
       "      <td>0.015086</td>\n",
       "      <td>0.136534</td>\n",
       "      <td>-0.003611</td>\n",
       "      <td>-0.006689</td>\n",
       "    </tr>\n",
       "    <tr>\n",
       "      <th>Education</th>\n",
       "      <td>0.021463</td>\n",
       "      <td>0.041334</td>\n",
       "      <td>0.013152</td>\n",
       "      <td>-0.187524</td>\n",
       "      <td>-0.017377</td>\n",
       "      <td>0.064929</td>\n",
       "      <td>-0.136124</td>\n",
       "      <td>1.000000</td>\n",
       "      <td>-0.033327</td>\n",
       "      <td>0.136722</td>\n",
       "      <td>-0.010812</td>\n",
       "      <td>0.013934</td>\n",
       "      <td>-0.015004</td>\n",
       "      <td>-0.011014</td>\n",
       "    </tr>\n",
       "    <tr>\n",
       "      <th>Mortgage</th>\n",
       "      <td>-0.013920</td>\n",
       "      <td>-0.012539</td>\n",
       "      <td>-0.010582</td>\n",
       "      <td>0.206806</td>\n",
       "      <td>0.007383</td>\n",
       "      <td>-0.020445</td>\n",
       "      <td>0.109905</td>\n",
       "      <td>-0.033327</td>\n",
       "      <td>1.000000</td>\n",
       "      <td>0.142095</td>\n",
       "      <td>-0.005411</td>\n",
       "      <td>0.089311</td>\n",
       "      <td>-0.005995</td>\n",
       "      <td>-0.007231</td>\n",
       "    </tr>\n",
       "    <tr>\n",
       "      <th>Personal Loan</th>\n",
       "      <td>-0.024801</td>\n",
       "      <td>-0.007726</td>\n",
       "      <td>-0.007413</td>\n",
       "      <td>0.502462</td>\n",
       "      <td>0.000107</td>\n",
       "      <td>0.061367</td>\n",
       "      <td>0.366889</td>\n",
       "      <td>0.136722</td>\n",
       "      <td>0.142095</td>\n",
       "      <td>1.000000</td>\n",
       "      <td>0.021954</td>\n",
       "      <td>0.316355</td>\n",
       "      <td>0.006278</td>\n",
       "      <td>0.002802</td>\n",
       "    </tr>\n",
       "    <tr>\n",
       "      <th>Securities Account</th>\n",
       "      <td>-0.016972</td>\n",
       "      <td>-0.000436</td>\n",
       "      <td>-0.001232</td>\n",
       "      <td>-0.002616</td>\n",
       "      <td>0.004704</td>\n",
       "      <td>0.019994</td>\n",
       "      <td>0.015086</td>\n",
       "      <td>-0.010812</td>\n",
       "      <td>-0.005411</td>\n",
       "      <td>0.021954</td>\n",
       "      <td>1.000000</td>\n",
       "      <td>0.317034</td>\n",
       "      <td>0.012627</td>\n",
       "      <td>-0.015028</td>\n",
       "    </tr>\n",
       "    <tr>\n",
       "      <th>CD Account</th>\n",
       "      <td>-0.006909</td>\n",
       "      <td>0.008043</td>\n",
       "      <td>0.010353</td>\n",
       "      <td>0.169738</td>\n",
       "      <td>0.019972</td>\n",
       "      <td>0.014110</td>\n",
       "      <td>0.136534</td>\n",
       "      <td>0.013934</td>\n",
       "      <td>0.089311</td>\n",
       "      <td>0.316355</td>\n",
       "      <td>0.317034</td>\n",
       "      <td>1.000000</td>\n",
       "      <td>0.175880</td>\n",
       "      <td>0.278644</td>\n",
       "    </tr>\n",
       "    <tr>\n",
       "      <th>Online</th>\n",
       "      <td>-0.002528</td>\n",
       "      <td>0.013702</td>\n",
       "      <td>0.013898</td>\n",
       "      <td>0.014206</td>\n",
       "      <td>0.016990</td>\n",
       "      <td>0.010354</td>\n",
       "      <td>-0.003611</td>\n",
       "      <td>-0.015004</td>\n",
       "      <td>-0.005995</td>\n",
       "      <td>0.006278</td>\n",
       "      <td>0.012627</td>\n",
       "      <td>0.175880</td>\n",
       "      <td>1.000000</td>\n",
       "      <td>0.004210</td>\n",
       "    </tr>\n",
       "    <tr>\n",
       "      <th>CreditCard</th>\n",
       "      <td>0.017028</td>\n",
       "      <td>0.007681</td>\n",
       "      <td>0.008967</td>\n",
       "      <td>-0.002385</td>\n",
       "      <td>0.007691</td>\n",
       "      <td>0.011588</td>\n",
       "      <td>-0.006689</td>\n",
       "      <td>-0.011014</td>\n",
       "      <td>-0.007231</td>\n",
       "      <td>0.002802</td>\n",
       "      <td>-0.015028</td>\n",
       "      <td>0.278644</td>\n",
       "      <td>0.004210</td>\n",
       "      <td>1.000000</td>\n",
       "    </tr>\n",
       "  </tbody>\n",
       "</table>\n",
       "</div>"
      ],
      "text/plain": [
       "                          ID       Age  Experience    Income  ZIP Code  \\\n",
       "ID                  1.000000 -0.008473   -0.008326 -0.017695  0.013432   \n",
       "Age                -0.008473  1.000000    0.994215 -0.055269 -0.029216   \n",
       "Experience         -0.008326  0.994215    1.000000 -0.046574 -0.028626   \n",
       "Income             -0.017695 -0.055269   -0.046574  1.000000 -0.016410   \n",
       "ZIP Code            0.013432 -0.029216   -0.028626 -0.016410  1.000000   \n",
       "Family             -0.016797 -0.046418   -0.052563 -0.157501  0.011778   \n",
       "CCAvg              -0.024675 -0.052012   -0.050077  0.645984 -0.004061   \n",
       "Education           0.021463  0.041334    0.013152 -0.187524 -0.017377   \n",
       "Mortgage           -0.013920 -0.012539   -0.010582  0.206806  0.007383   \n",
       "Personal Loan      -0.024801 -0.007726   -0.007413  0.502462  0.000107   \n",
       "Securities Account -0.016972 -0.000436   -0.001232 -0.002616  0.004704   \n",
       "CD Account         -0.006909  0.008043    0.010353  0.169738  0.019972   \n",
       "Online             -0.002528  0.013702    0.013898  0.014206  0.016990   \n",
       "CreditCard          0.017028  0.007681    0.008967 -0.002385  0.007691   \n",
       "\n",
       "                      Family     CCAvg  Education  Mortgage  Personal Loan  \\\n",
       "ID                 -0.016797 -0.024675   0.021463 -0.013920      -0.024801   \n",
       "Age                -0.046418 -0.052012   0.041334 -0.012539      -0.007726   \n",
       "Experience         -0.052563 -0.050077   0.013152 -0.010582      -0.007413   \n",
       "Income             -0.157501  0.645984  -0.187524  0.206806       0.502462   \n",
       "ZIP Code            0.011778 -0.004061  -0.017377  0.007383       0.000107   \n",
       "Family              1.000000 -0.109275   0.064929 -0.020445       0.061367   \n",
       "CCAvg              -0.109275  1.000000  -0.136124  0.109905       0.366889   \n",
       "Education           0.064929 -0.136124   1.000000 -0.033327       0.136722   \n",
       "Mortgage           -0.020445  0.109905  -0.033327  1.000000       0.142095   \n",
       "Personal Loan       0.061367  0.366889   0.136722  0.142095       1.000000   \n",
       "Securities Account  0.019994  0.015086  -0.010812 -0.005411       0.021954   \n",
       "CD Account          0.014110  0.136534   0.013934  0.089311       0.316355   \n",
       "Online              0.010354 -0.003611  -0.015004 -0.005995       0.006278   \n",
       "CreditCard          0.011588 -0.006689  -0.011014 -0.007231       0.002802   \n",
       "\n",
       "                    Securities Account  CD Account    Online  CreditCard  \n",
       "ID                           -0.016972   -0.006909 -0.002528    0.017028  \n",
       "Age                          -0.000436    0.008043  0.013702    0.007681  \n",
       "Experience                   -0.001232    0.010353  0.013898    0.008967  \n",
       "Income                       -0.002616    0.169738  0.014206   -0.002385  \n",
       "ZIP Code                      0.004704    0.019972  0.016990    0.007691  \n",
       "Family                        0.019994    0.014110  0.010354    0.011588  \n",
       "CCAvg                         0.015086    0.136534 -0.003611   -0.006689  \n",
       "Education                    -0.010812    0.013934 -0.015004   -0.011014  \n",
       "Mortgage                     -0.005411    0.089311 -0.005995   -0.007231  \n",
       "Personal Loan                 0.021954    0.316355  0.006278    0.002802  \n",
       "Securities Account            1.000000    0.317034  0.012627   -0.015028  \n",
       "CD Account                    0.317034    1.000000  0.175880    0.278644  \n",
       "Online                        0.012627    0.175880  1.000000    0.004210  \n",
       "CreditCard                   -0.015028    0.278644  0.004210    1.000000  "
      ]
     },
     "execution_count": 7,
     "metadata": {},
     "output_type": "execute_result"
    }
   ],
   "source": [
    "bank_correlation = bank_df.corr()\n",
    "bank_correlation"
   ]
  },
  {
   "cell_type": "code",
   "execution_count": 8,
   "metadata": {},
   "outputs": [
    {
     "data": {
      "image/png": "[encoded data removed]",
      "text/plain": [
       "<Figure size 1080x1080 with 2 Axes>"
      ]
     },
     "metadata": {
      "needs_background": "light"
     },
     "output_type": "display_data"
    }
   ],
   "source": [
    "f, axes = plt.subplots(1, 1, figsize=(15, 15))\n",
    "sns.heatmap(bank_correlation, \n",
    "            xticklabels = bank_correlation.columns.values,\n",
    "            yticklabels = bank_correlation.columns.values,\n",
    "            annot = True);"
   ]
  },
  {
   "cell_type": "markdown",
   "metadata": {},
   "source": [
    "with this we can see the corelation between the columns so out target variable in this problem statement is 'Personal Loan'   lets compare the relation induvally "
   ]
  },
  {
   "cell_type": "code",
   "execution_count": 9,
   "metadata": {},
   "outputs": [],
   "source": [
    "# sns.pairplot(bank_df, diag_kind='kde')"
   ]
  },
  {
   "cell_type": "markdown",
   "metadata": {},
   "source": [
    "lets check Relation Between the target Variable and other variable "
   ]
  },
  {
   "cell_type": "code",
   "execution_count": 10,
   "metadata": {},
   "outputs": [
    {
     "name": "stdout",
     "output_type": "stream",
     "text": [
      "Personal Loan     0    1\n",
      "Education               \n",
      "1              2003   93\n",
      "2              1221  182\n",
      "3              1296  205\n",
      "Personal Loan     0    1\n",
      "Family                  \n",
      "1              1365  107\n",
      "2              1190  106\n",
      "3               877  133\n",
      "4              1088  134\n",
      "Personal Loan     0    1\n",
      "CD Account              \n",
      "0              4358  340\n",
      "1               162  140\n"
     ]
    },
    {
     "data": {
      "text/plain": [
       "<matplotlib.axes._subplots.AxesSubplot at 0x11ea8ba58>"
      ]
     },
     "execution_count": 10,
     "metadata": {},
     "output_type": "execute_result"
    },
    {
     "data": {
      "image/png": "[encoded data removed]",
      "text/plain": [
       "<Figure size 1080x360 with 3 Axes>"
      ]
     },
     "metadata": {
      "needs_background": "light"
     },
     "output_type": "display_data"
    }
   ],
   "source": [
    "f, axes = plt.subplots(1, 3,figsize=(15,5))\n",
    "bank_crossTab = pd.crosstab(bank_df['Education'],bank_df['Personal Loan'])\n",
    "print(bank_crossTab)\n",
    "bank_crossTab.div(bank_crossTab.sum(1).astype(float), axis=0).plot(kind='bar', stacked=True, ax=axes[0])\n",
    "\n",
    "bank_crossTab = pd.crosstab(bank_df['Family'],bank_df['Personal Loan'])\n",
    "print(bank_crossTab)\n",
    "bank_crossTab.div(bank_crossTab.sum(1).astype(float), axis=0).plot(kind='bar', stacked=True, ax=axes[1])\n",
    "\n",
    "bank_crossTab = pd.crosstab(bank_df['CD Account'],bank_df['Personal Loan'])\n",
    "print(bank_crossTab)\n",
    "bank_crossTab.div(bank_crossTab.sum(1).astype(float), axis=0).plot(kind='bar', stacked=True, ax=axes[2])"
   ]
  },
  {
   "cell_type": "markdown",
   "metadata": {},
   "source": [
    "- from the above graph (Education), we can see that more educated people have higher probablity of getting loan\n",
    "- from the above graph ( family ), there is no much affect on probablity with number of family members \n",
    "- with the above graph(CD account), customer with CD Account have higher probablity in buying the loan "
   ]
  },
  {
   "cell_type": "code",
   "execution_count": 11,
   "metadata": {},
   "outputs": [
    {
     "name": "stdout",
     "output_type": "stream",
     "text": [
      "Personal Loan     0    1\n",
      "Online                  \n",
      "0              1827  189\n",
      "1              2693  291\n",
      "Personal Loan          0    1\n",
      "Securities Account           \n",
      "0                   4058  420\n",
      "1                    462   60\n",
      "Personal Loan     0    1\n",
      "CreditCard              \n",
      "0              3193  337\n",
      "1              1327  143\n"
     ]
    },
    {
     "data": {
      "text/plain": [
       "<matplotlib.axes._subplots.AxesSubplot at 0x11ec63390>"
      ]
     },
     "execution_count": 11,
     "metadata": {},
     "output_type": "execute_result"
    },
    {
     "data": {
      "image/png": "[encoded data removed]",
      "text/plain": [
       "<Figure size 1080x360 with 3 Axes>"
      ]
     },
     "metadata": {
      "needs_background": "light"
     },
     "output_type": "display_data"
    }
   ],
   "source": [
    "f, axes = plt.subplots(1, 3, figsize=(15, 5))\n",
    "bank_crossTab = pd.crosstab(bank_df['Online'],bank_df['Personal Loan'])\n",
    "print(bank_crossTab)\n",
    "bank_crossTab.div(bank_crossTab.sum(1).astype(float), axis=0).plot(kind='bar', stacked=True, ax=axes[0])\n",
    "\n",
    "bank_crossTab = pd.crosstab(bank_df['Securities Account'],bank_df['Personal Loan'])\n",
    "print(bank_crossTab)\n",
    "bank_crossTab.div(bank_crossTab.sum(1).astype(float), axis=0).plot(kind='bar', stacked=True, ax=axes[1])\n",
    "\n",
    "bank_crossTab = pd.crosstab(bank_df['CreditCard'],bank_df['Personal Loan'])\n",
    "print(bank_crossTab)\n",
    "bank_crossTab.div(bank_crossTab.sum(1).astype(float), axis=0).plot(kind='bar', stacked=True,  ax=axes[2])"
   ]
  },
  {
   "cell_type": "markdown",
   "metadata": {},
   "source": [
    "from the above graph(Credit card ) not much probablity difference with customer with CreditCard or without CreditCard. and its the same with online  and security Account "
   ]
  },
  {
   "cell_type": "markdown",
   "metadata": {},
   "source": [
    "## Strategies to address the different data challenges such as data pollution, outliers and missing values"
   ]
  },
  {
   "cell_type": "markdown",
   "metadata": {},
   "source": [
    "### Checking for any missing values in the record"
   ]
  },
  {
   "cell_type": "code",
   "execution_count": 12,
   "metadata": {},
   "outputs": [
    {
     "data": {
      "text/plain": [
       "ID                    0\n",
       "Age                   0\n",
       "Experience            0\n",
       "Income                0\n",
       "ZIP Code              0\n",
       "Family                0\n",
       "CCAvg                 0\n",
       "Education             0\n",
       "Mortgage              0\n",
       "Personal Loan         0\n",
       "Securities Account    0\n",
       "CD Account            0\n",
       "Online                0\n",
       "CreditCard            0\n",
       "dtype: int64"
      ]
     },
     "execution_count": 12,
     "metadata": {},
     "output_type": "execute_result"
    }
   ],
   "source": [
    "bank_df.isnull().sum()"
   ]
  },
  {
   "cell_type": "markdown",
   "metadata": {},
   "source": [
    "above output shows that we dont have any null values to treat"
   ]
  },
  {
   "cell_type": "markdown",
   "metadata": {},
   "source": [
    "### outlier treatment\n",
    "we know that Mortgage contains outliers from the above analysis, so lets start withh that "
   ]
  },
  {
   "cell_type": "code",
   "execution_count": 13,
   "metadata": {},
   "outputs": [
    {
     "data": {
      "text/plain": [
       "<matplotlib.axes._subplots.AxesSubplot at 0x11e7ddda0>"
      ]
     },
     "execution_count": 13,
     "metadata": {},
     "output_type": "execute_result"
    },
    {
     "data": {
      "image/png": "[encoded data removed]",
      "text/plain": [
       "<Figure size 1080x360 with 2 Axes>"
      ]
     },
     "metadata": {
      "needs_background": "light"
     },
     "output_type": "display_data"
    }
   ],
   "source": [
    "f, axes = plt.subplots(1, 2, figsize=(15,5))\n",
    "sns.distplot(bank_df['Mortgage'], ax=axes[0])\n",
    "sns.boxplot(x=bank_df['Mortgage'], data=bank_df, ax=axes[1])"
   ]
  },
  {
   "cell_type": "markdown",
   "metadata": {},
   "source": [
    "the data is rigt skewed, we will use calculate z-scores for removing outliers "
   ]
  },
  {
   "cell_type": "code",
   "execution_count": 14,
   "metadata": {},
   "outputs": [],
   "source": [
    "bank_df['Mortgage_zscore'] = np.abs(stats.zscore(bank_df['Mortgage']))\n",
    "bank_df  = bank_df[bank_df['Mortgage_zscore'] < 3]\n",
    "bank_df.drop('Mortgage_zscore', axis=1, inplace=True)"
   ]
  },
  {
   "cell_type": "code",
   "execution_count": 15,
   "metadata": {},
   "outputs": [
    {
     "data": {
      "text/plain": [
       "(4895, 14)"
      ]
     },
     "execution_count": 15,
     "metadata": {},
     "output_type": "execute_result"
    }
   ],
   "source": [
    "bank_df.shape"
   ]
  },
  {
   "cell_type": "markdown",
   "metadata": {},
   "source": [
    "here we removed more than 100 outliers"
   ]
  },
  {
   "cell_type": "markdown",
   "metadata": {},
   "source": [
    "## Target Column Distribution - In our case 'Personal Loan' is Target Variable"
   ]
  },
  {
   "cell_type": "code",
   "execution_count": 16,
   "metadata": {},
   "outputs": [
    {
     "data": {
      "text/plain": [
       "<matplotlib.axes._subplots.AxesSubplot at 0x11ece0d30>"
      ]
     },
     "execution_count": 16,
     "metadata": {},
     "output_type": "execute_result"
    },
    {
     "data": {
      "image/png": "[encoded data removed]",
      "text/plain": [
       "<Figure size 432x288 with 1 Axes>"
      ]
     },
     "metadata": {
      "needs_background": "light"
     },
     "output_type": "display_data"
    }
   ],
   "source": [
    "sns.countplot(x=\"Personal Loan\", data=bank_df)"
   ]
  },
  {
   "cell_type": "markdown",
   "metadata": {},
   "source": [
    "this data have lost are customer data where personal loan was rejected"
   ]
  },
  {
   "cell_type": "markdown",
   "metadata": {},
   "source": [
    "## Data Distribution of 'Personal Loan' across all variables"
   ]
  },
  {
   "cell_type": "code",
   "execution_count": 17,
   "metadata": {},
   "outputs": [
    {
     "data": {
      "text/plain": [
       "Text(0.5, 1.0, 'Income Distribution')"
      ]
     },
     "execution_count": 17,
     "metadata": {},
     "output_type": "execute_result"
    },
    {
     "data": {
      "image/png": "[encoded data removed]",
      "text/plain": [
       "<Figure size 432x288 with 1 Axes>"
      ]
     },
     "metadata": {
      "needs_background": "light"
     },
     "output_type": "display_data"
    }
   ],
   "source": [
    "# f, axes = plt.subplots(1, 3, figsize=(15,5))\n",
    "# sns.distplot(bank_df[bank_df[\"Personal Loan\"] == 0]['Income'], color = 'r',label='Personal Loan=0',kde=False, ax=axes[0])\n",
    "# sns.distplot(bank_df[bank_df[\"Personal Loan\"] == 1]['Income'], color = 'b',label='Personal Loan=1',kde=False, ax=axes[0])\n",
    "sns.distplot(bank_df[bank_df[\"Personal Loan\"] == 0]['Income'], color = 'r',label='Personal Loan=0',kde=False)\n",
    "sns.distplot(bank_df[bank_df[\"Personal Loan\"] == 1]['Income'], color = 'b',label='Personal Loan=1',kde=False)\n",
    "plt.legend()\n",
    "plt.title(\"Income Distribution\")"
   ]
  },
  {
   "cell_type": "code",
   "execution_count": 18,
   "metadata": {},
   "outputs": [
    {
     "data": {
      "text/plain": [
       "Text(0.5, 1.0, 'CCAvg Distribution')"
      ]
     },
     "execution_count": 18,
     "metadata": {},
     "output_type": "execute_result"
    },
    {
     "data": {
      "image/png": "[encoded data removed]",
      "text/plain": [
       "<Figure size 432x288 with 1 Axes>"
      ]
     },
     "metadata": {
      "needs_background": "light"
     },
     "output_type": "display_data"
    }
   ],
   "source": [
    "sns.distplot(bank_df[bank_df[\"Personal Loan\"] == 0]['CCAvg'], color = 'r',label='Personal Loan=0',kde=False)\n",
    "sns.distplot(bank_df[bank_df[\"Personal Loan\"] == 1]['CCAvg'], color = 'b',label='Personal Loan=1',kde=False)\n",
    "plt.legend()\n",
    "plt.title(\"CCAvg Distribution\")"
   ]
  },
  {
   "cell_type": "code",
   "execution_count": 19,
   "metadata": {},
   "outputs": [
    {
     "data": {
      "text/plain": [
       "Text(0.5, 1.0, 'Experience Distribution')"
      ]
     },
     "execution_count": 19,
     "metadata": {},
     "output_type": "execute_result"
    },
    {
     "data": {
      "image/png": "[encoded data removed]",
      "text/plain": [
       "<Figure size 432x288 with 1 Axes>"
      ]
     },
     "metadata": {
      "needs_background": "light"
     },
     "output_type": "display_data"
    }
   ],
   "source": [
    "sns.distplot(bank_df[bank_df[\"Personal Loan\"] == 0]['Experience'], color = 'r',label='Personal Loan=0',kde=False)\n",
    "sns.distplot(bank_df[bank_df[\"Personal Loan\"] == 1]['Experience'], color = 'b',label='Personal Loan=1',kde=False)\n",
    "plt.legend()\n",
    "plt.title(\"Experience Distribution\")"
   ]
  },
  {
   "cell_type": "code",
   "execution_count": 20,
   "metadata": {},
   "outputs": [
    {
     "data": {
      "text/plain": [
       "<matplotlib.axes._subplots.AxesSubplot at 0x121695358>"
      ]
     },
     "execution_count": 20,
     "metadata": {},
     "output_type": "execute_result"
    },
    {
     "data": {
      "image/png": "[encoded data removed]",
      "text/plain": [
       "<Figure size 1080x360 with 2 Axes>"
      ]
     },
     "metadata": {
      "needs_background": "light"
     },
     "output_type": "display_data"
    }
   ],
   "source": [
    "f, axes = plt.subplots(1, 2, figsize=(15,5))\n",
    "sns.countplot(x='Securities Account',data=bank_df,hue='Personal Loan', ax=axes[0])\n",
    "sns.countplot(x='Family',data=bank_df,hue='Personal Loan', ax=axes[1])"
   ]
  },
  {
   "cell_type": "code",
   "execution_count": 21,
   "metadata": {},
   "outputs": [
    {
     "data": {
      "text/plain": [
       "Text(0.5, 1.0, 'Education vs Income Boxplot')"
      ]
     },
     "execution_count": 21,
     "metadata": {},
     "output_type": "execute_result"
    },
    {
     "data": {
      "image/png": "[encoded data removed]",
      "text/plain": [
       "<Figure size 432x288 with 1 Axes>"
      ]
     },
     "metadata": {
      "needs_background": "light"
     },
     "output_type": "display_data"
    }
   ],
   "source": [
    "sns.boxplot(x='Education',data=bank_df,hue='Personal Loan',y='Income')\n",
    "plt.legend(loc='lower right')\n",
    "plt.title(\"Education vs Income Boxplot\")\n"
   ]
  },
  {
   "cell_type": "code",
   "execution_count": 22,
   "metadata": {},
   "outputs": [
    {
     "data": {
      "text/plain": [
       "Text(0.5, 1.0, 'Family vs Income Boxplot')"
      ]
     },
     "execution_count": 22,
     "metadata": {},
     "output_type": "execute_result"
    },
    {
     "data": {
      "image/png": "[encoded data removed]",
      "text/plain": [
       "<Figure size 432x288 with 1 Axes>"
      ]
     },
     "metadata": {
      "needs_background": "light"
     },
     "output_type": "display_data"
    }
   ],
   "source": [
    "sns.boxplot(x='Family',data=bank_df,hue='Personal Loan',y='Income')\n",
    "plt.legend(loc='upper center')\n",
    "plt.title(\"Family vs Income Boxplot\")"
   ]
  },
  {
   "cell_type": "markdown",
   "metadata": {},
   "source": [
    "From the above all graph inthis sesion \n",
    "- Income Distribution vs Personal Loan : Income have left skewed\n",
    "- Experiance : we are not able to conclude probablity are higher"
   ]
  },
  {
   "cell_type": "markdown",
   "metadata": {},
   "source": [
    "## Load the data into a data-frame. The data-frame should have data and column description."
   ]
  },
  {
   "cell_type": "code",
   "execution_count": 23,
   "metadata": {},
   "outputs": [
    {
     "name": "stdout",
     "output_type": "stream",
     "text": [
      "(4895, 14)\n"
     ]
    }
   ],
   "source": [
    "bank_dataFrame = bank_df.copy()\n",
    "print(bank_dataFrame.shape)"
   ]
  },
  {
   "cell_type": "markdown",
   "metadata": {},
   "source": [
    "## Ensure the attribute types are correct. If not, take appropriate actions."
   ]
  },
  {
   "cell_type": "code",
   "execution_count": 24,
   "metadata": {},
   "outputs": [
    {
     "name": "stdout",
     "output_type": "stream",
     "text": [
      "<class 'pandas.core.frame.DataFrame'>\n",
      "Int64Index: 4895 entries, 0 to 4999\n",
      "Data columns (total 14 columns):\n",
      "ID                    4895 non-null int64\n",
      "Age                   4895 non-null int64\n",
      "Experience            4895 non-null int64\n",
      "Income                4895 non-null int64\n",
      "ZIP Code              4895 non-null int64\n",
      "Family                4895 non-null int64\n",
      "CCAvg                 4895 non-null float64\n",
      "Education             4895 non-null int64\n",
      "Mortgage              4895 non-null int64\n",
      "Personal Loan         4895 non-null int64\n",
      "Securities Account    4895 non-null int64\n",
      "CD Account            4895 non-null int64\n",
      "Online                4895 non-null int64\n",
      "CreditCard            4895 non-null int64\n",
      "dtypes: float64(1), int64(13)\n",
      "memory usage: 573.6 KB\n"
     ]
    }
   ],
   "source": [
    "bank_dataFrame.info()"
   ]
  },
  {
   "cell_type": "markdown",
   "metadata": {},
   "source": [
    "## Create the training set and test set in ration of 70:30"
   ]
  },
  {
   "cell_type": "code",
   "execution_count": 25,
   "metadata": {},
   "outputs": [],
   "source": [
    "from sklearn.model_selection import train_test_split\n",
    "from sklearn.linear_model import LogisticRegression\n",
    "from sklearn.metrics import accuracy_score\n",
    "from sklearn.metrics import classification_report \n",
    "from sklearn.metrics import confusion_matrix\n",
    "from sklearn.metrics import roc_curve, auc\n",
    "from sklearn.model_selection import GridSearchCV"
   ]
  },
  {
   "cell_type": "code",
   "execution_count": 26,
   "metadata": {},
   "outputs": [
    {
     "name": "stdout",
     "output_type": "stream",
     "text": [
      "(3671, 13) (1224, 13) (3671,) (1224,)\n"
     ]
    }
   ],
   "source": [
    "X = bank_dataFrame.drop('Personal Loan',axis=1)\n",
    "y = bank_dataFrame['Personal Loan']\n",
    "\n",
    "X_train, X_test, y_train, y_test =  train_test_split(X, y, random_state=1)\n",
    "print(X_train.shape, X_test.shape, y_train.shape, y_test.shape)"
   ]
  },
  {
   "cell_type": "markdown",
   "metadata": {},
   "source": [
    "## Transform the data i.e. scale / normalize if required"
   ]
  },
  {
   "cell_type": "code",
   "execution_count": 27,
   "metadata": {},
   "outputs": [],
   "source": [
    "from sklearn import preprocessing"
   ]
  },
  {
   "cell_type": "code",
   "execution_count": 28,
   "metadata": {},
   "outputs": [
    {
     "name": "stdout",
     "output_type": "stream",
     "text": [
      "(3671, 13) (1224, 13) (3671,) (1224,)\n"
     ]
    }
   ],
   "source": [
    "col_names = bank_dataFrame.columns\n",
    "scaler = preprocessing.StandardScaler()\n",
    "scaled_X_train = scaler.fit_transform(X_train)\n",
    "scaled_X_test = scaler.fit_transform(X_test)\n",
    "\n",
    "print(scaled_X_train.shape, scaled_X_test.shape, y_train.shape, y_test.shape)"
   ]
  },
  {
   "cell_type": "markdown",
   "metadata": {},
   "source": [
    "lets create some metod for code reusablity "
   ]
  },
  {
   "cell_type": "code",
   "execution_count": 29,
   "metadata": {},
   "outputs": [],
   "source": [
    "def modelReport(test, predict):\n",
    "    print(f'Classification Report :\\n{classification_report(y_test, y_pred)}\\n')\n",
    "    print(f'Model Accuracy Score : {accuracy_score(y_test, y_pred)}\\n')\n",
    "    print(f'Confusion Matrix :\\n{confusion_matrix(y_test, y_pred)}\\n')\n",
    "    return classification_report(y_test, y_pred), accuracy_score(y_test, y_pred), confusion_matrix(y_test, y_pred)\n",
    "    \n",
    "def roc_curve_report(model,X_test, y_test):\n",
    "    model_prob = model.predict_proba(X_test)\n",
    "    falsePositive_rate, truePositive_rate, threshold = roc_curve(y_test, model_prob[:,1])\n",
    "    roc_auc = auc(falsePositive_rate, truePositive_rate)\n",
    "    print(f'ROC curv : {roc_auc}')\n",
    "    return(falsePositive_rate, truePositive_rate, threshold, roc_auc)"
   ]
  },
  {
   "cell_type": "markdown",
   "metadata": {},
   "source": [
    "## First create Logistic Regression algorithm. Note the model performance."
   ]
  },
  {
   "cell_type": "markdown",
   "metadata": {},
   "source": [
    "- Logistic Regression is a classification algorithm. It is used to predict a binary outcome (1 / 0, Yes / No, True / False) given a set of independent variables.\n",
    "- Logistic regression is an estimation of Logit function. Logit function is simply a log of odds in favor of the event.\n",
    "- This function creates an S-shaped curve with the probability estimate, which is very similar to the required stepwise function"
   ]
  },
  {
   "cell_type": "code",
   "execution_count": 30,
   "metadata": {},
   "outputs": [
    {
     "data": {
      "text/plain": [
       "LogisticRegression(C=1.0, class_weight=None, dual=False, fit_intercept=True,\n",
       "                   intercept_scaling=1, l1_ratio=None, max_iter=100,\n",
       "                   multi_class='auto', n_jobs=None, penalty='l2',\n",
       "                   random_state=None, solver='lbfgs', tol=0.0001, verbose=0,\n",
       "                   warm_start=False)"
      ]
     },
     "execution_count": 30,
     "metadata": {},
     "output_type": "execute_result"
    }
   ],
   "source": [
    "logReg_model = LogisticRegression()\n",
    "logReg_model.fit(scaled_X_train, y_train)"
   ]
  },
  {
   "cell_type": "code",
   "execution_count": 31,
   "metadata": {},
   "outputs": [
    {
     "name": "stdout",
     "output_type": "stream",
     "text": [
      "Classification Report :\n",
      "              precision    recall  f1-score   support\n",
      "\n",
      "           0       0.96      0.99      0.98      1117\n",
      "           1       0.82      0.62      0.71       107\n",
      "\n",
      "    accuracy                           0.96      1224\n",
      "   macro avg       0.89      0.80      0.84      1224\n",
      "weighted avg       0.95      0.96      0.95      1224\n",
      "\n",
      "\n",
      "Model Accuracy Score : 0.9550653594771242\n",
      "\n",
      "Confusion Matrix :\n",
      "[[1103   14]\n",
      " [  41   66]]\n",
      "\n"
     ]
    }
   ],
   "source": [
    "y_pred = logReg_model.predict(scaled_X_test)\n",
    "clssReport , auc_score, conf_matrix = modelReport(y_test, y_pred)"
   ]
  },
  {
   "cell_type": "markdown",
   "metadata": {},
   "source": [
    "its pretty good prediction after the scaling process"
   ]
  },
  {
   "cell_type": "markdown",
   "metadata": {},
   "source": [
    "## Create Roc Curve and calculate the fpr and tpr for all thresholds of the classification "
   ]
  },
  {
   "cell_type": "code",
   "execution_count": 32,
   "metadata": {},
   "outputs": [
    {
     "name": "stdout",
     "output_type": "stream",
     "text": [
      "0.9544758573950585\n"
     ]
    }
   ],
   "source": [
    "logReg_prob = logReg_model.predict_proba(scaled_X_test)\n",
    "falsePositive_rate, truePositive_rate, threshold = roc_curve(y_test, logReg_prob[:,1])\n",
    "roc_auc = auc(falsePositive_rate, truePositive_rate)\n",
    "print(roc_auc)"
   ]
  },
  {
   "cell_type": "code",
   "execution_count": 33,
   "metadata": {},
   "outputs": [
    {
     "name": "stdout",
     "output_type": "stream",
     "text": [
      "ROC curv : 0.9544758573950585\n"
     ]
    }
   ],
   "source": [
    "fP_rate, tP_rate, threshold, roc_auc = roc_curve_report(logReg_model, scaled_X_test, y_test)"
   ]
  },
  {
   "cell_type": "markdown",
   "metadata": {},
   "source": [
    "## Logistic Regression with Hyper Parameter Tuning using GridSearchCV"
   ]
  },
  {
   "cell_type": "code",
   "execution_count": 34,
   "metadata": {},
   "outputs": [
    {
     "name": "stdout",
     "output_type": "stream",
     "text": [
      "{'C': array([1.00000000e+00, 2.78255940e+00, 7.74263683e+00, 2.15443469e+01,\n",
      "       5.99484250e+01, 1.66810054e+02, 4.64158883e+02, 1.29154967e+03,\n",
      "       3.59381366e+03, 1.00000000e+04]), 'penalty': ['l1', 'l2', 'elasticnet']}\n"
     ]
    }
   ],
   "source": [
    "penalty = ['l1', 'l2','elasticnet']\n",
    "C = np.logspace(0, 4, 10)\n",
    "hyperparameters = dict(C=C, penalty=penalty)\n",
    "print(hyperparameters)\n",
    "grid = GridSearchCV(logReg_model, hyperparameters, cv=5, verbose=0)"
   ]
  },
  {
   "cell_type": "code",
   "execution_count": 35,
   "metadata": {},
   "outputs": [
    {
     "name": "stdout",
     "output_type": "stream",
     "text": [
      "Best Penalty: l2\n",
      "Best C: 1.0\n"
     ]
    }
   ],
   "source": [
    "best_model = grid.fit(scaled_X_train, y_train)\n",
    "print('Best Penalty:', best_model.best_estimator_.get_params()['penalty'])\n",
    "print('Best C:', best_model.best_estimator_.get_params()['C'])"
   ]
  },
  {
   "cell_type": "code",
   "execution_count": 36,
   "metadata": {},
   "outputs": [
    {
     "data": {
      "text/plain": [
       "array([0, 0, 0, ..., 0, 0, 0])"
      ]
     },
     "execution_count": 36,
     "metadata": {},
     "output_type": "execute_result"
    }
   ],
   "source": [
    "best_model.predict(scaled_X_train)"
   ]
  },
  {
   "cell_type": "markdown",
   "metadata": {},
   "source": [
    "we can see that Grid searchh have predicted best penalty l2 and c value as 1 which has good accuricy "
   ]
  },
  {
   "cell_type": "markdown",
   "metadata": {},
   "source": [
    "## Print Best accuracy and Best Parameters using Confusion Matrix & Print Classification Report to check precision, recall & F1 Score"
   ]
  },
  {
   "cell_type": "code",
   "execution_count": 37,
   "metadata": {},
   "outputs": [
    {
     "name": "stdout",
     "output_type": "stream",
     "text": [
      "Accuracy on train is: 0.9515118496322528\n",
      "Accuracy on test is: 0.9550653594771242\n"
     ]
    }
   ],
   "source": [
    "best_logReg_model = grid.best_estimator_\n",
    "pred_train = best_logReg_model.predict(scaled_X_train)\n",
    "pred_test = best_logReg_model.predict(scaled_X_test)\n",
    "print(\"Accuracy on train is:\",accuracy_score(y_train,pred_train))\n",
    "print(\"Accuracy on test is:\",accuracy_score(y_test,pred_test))"
   ]
  },
  {
   "cell_type": "code",
   "execution_count": 38,
   "metadata": {},
   "outputs": [
    {
     "name": "stdout",
     "output_type": "stream",
     "text": [
      "Classification Report :\n",
      "              precision    recall  f1-score   support\n",
      "\n",
      "           0       0.96      0.99      0.98      1117\n",
      "           1       0.82      0.62      0.71       107\n",
      "\n",
      "    accuracy                           0.96      1224\n",
      "   macro avg       0.89      0.80      0.84      1224\n",
      "weighted avg       0.95      0.96      0.95      1224\n",
      "\n",
      "\n",
      "Model Accuracy Score : 0.9550653594771242\n",
      "\n",
      "Confusion Matrix :\n",
      "[[1103   14]\n",
      " [  41   66]]\n",
      "\n"
     ]
    }
   ],
   "source": [
    "y_pred = best_logReg_model.predict(scaled_X_test)\n",
    "log_clssReport , log_auc_score, log_conf_matrix =  modelReport(y_test, y_pred)"
   ]
  },
  {
   "cell_type": "code",
   "execution_count": 39,
   "metadata": {},
   "outputs": [
    {
     "name": "stdout",
     "output_type": "stream",
     "text": [
      "ROC curv : 0.9544758573950585\n"
     ]
    }
   ],
   "source": [
    "log_fP_rate, log_tP_rate, log_threshold, log_roc_auc = roc_curve_report(best_logReg_model, scaled_X_test, y_test)"
   ]
  },
  {
   "cell_type": "markdown",
   "metadata": {},
   "source": [
    "Actually after prediction using hyperparameter tuning its teh same , its resonalble cuz l2 was default penalty so it will be same only "
   ]
  },
  {
   "cell_type": "markdown",
   "metadata": {},
   "source": [
    "## Build KNN algorithm and explain why that algorithm in the comment lines."
   ]
  },
  {
   "cell_type": "markdown",
   "metadata": {},
   "source": [
    "- kNN is a very popular algorithm Its popularity springs from the fact that it is very easy to understand and interpret yet many times its accuracy is comparable or even better than other, more complicated algorithms.\n",
    "- KNN is a supervised algorithm, it is non-parametric and lazy (instance-based)."
   ]
  },
  {
   "cell_type": "code",
   "execution_count": 40,
   "metadata": {},
   "outputs": [],
   "source": [
    "from sklearn.neighbors import KNeighborsClassifier"
   ]
  },
  {
   "cell_type": "code",
   "execution_count": 41,
   "metadata": {},
   "outputs": [
    {
     "name": "stdout",
     "output_type": "stream",
     "text": [
      "Classification Report :\n",
      "              precision    recall  f1-score   support\n",
      "\n",
      "           0       0.91      1.00      0.95      1117\n",
      "           1       0.00      0.00      0.00       107\n",
      "\n",
      "    accuracy                           0.91      1224\n",
      "   macro avg       0.46      0.50      0.48      1224\n",
      "weighted avg       0.83      0.91      0.87      1224\n",
      "\n",
      "\n",
      "Model Accuracy Score : 0.9125816993464052\n",
      "\n",
      "Confusion Matrix :\n",
      "[[1117    0]\n",
      " [ 107    0]]\n",
      "\n"
     ]
    }
   ],
   "source": [
    "knn_model= KNeighborsClassifier(n_neighbors=3)\n",
    "knn_model.fit(X_train, y_train)\n",
    "y_pred = knn_model.predict(scaled_X_test)\n",
    "clssReport , auc_score, conf_matrix = modelReport(y_test, y_pred)"
   ]
  },
  {
   "cell_type": "code",
   "execution_count": 42,
   "metadata": {},
   "outputs": [
    {
     "name": "stdout",
     "output_type": "stream",
     "text": [
      "ROC curv : 0.5\n"
     ]
    }
   ],
   "source": [
    "fP_rate, tP_rate, threshold, roc_auc = roc_curve_report(knn_model, scaled_X_test, y_test)"
   ]
  },
  {
   "cell_type": "markdown",
   "metadata": {},
   "source": [
    "logistic Regression compared with KNN the accuracy  , logistic works better , let do hyperparameter tuning in this "
   ]
  },
  {
   "cell_type": "markdown",
   "metadata": {},
   "source": [
    "## K-Nearest Neighbour with Hyper Parameter Tuning using GridSearchCV. Using Grid Search to identify optimum value for K."
   ]
  },
  {
   "cell_type": "code",
   "execution_count": 43,
   "metadata": {},
   "outputs": [
    {
     "name": "stdout",
     "output_type": "stream",
     "text": [
      "0.9504235280180072\n",
      "{'metric': 'euclidean', 'n_neighbors': 7}\n"
     ]
    }
   ],
   "source": [
    "params = {'n_neighbors':[1,5,7,9,11,13,25],'metric':[\"euclidean\",'cityblock']}\n",
    "grid = GridSearchCV(knn_model,param_grid=params,scoring='accuracy',cv=10)\n",
    "grid.fit(scaled_X_train,y_train)\n",
    "print(grid.best_score_)\n",
    "print(grid.best_params_)"
   ]
  },
  {
   "cell_type": "markdown",
   "metadata": {},
   "source": [
    "## Rebuild the KNN using the optimum value to achieve best accuracy"
   ]
  },
  {
   "cell_type": "code",
   "execution_count": 44,
   "metadata": {},
   "outputs": [
    {
     "name": "stdout",
     "output_type": "stream",
     "text": [
      "Accuracy on train is: 0.9596840098065922\n",
      "Accuracy on test is: 0.9575163398692811\n"
     ]
    }
   ],
   "source": [
    "best_knn_model = grid.best_estimator_\n",
    "pred_train = best_knn_model.predict(scaled_X_train) \n",
    "pred_test = best_knn_model.predict(scaled_X_test)\n",
    "print(\"Accuracy on train is:\",accuracy_score(y_train,pred_train))\n",
    "print(\"Accuracy on test is:\",accuracy_score(y_test,pred_test))\n"
   ]
  },
  {
   "cell_type": "markdown",
   "metadata": {},
   "source": [
    "## Print Best accuracy and Best Parameters using Confusion Matrix & Print Classification Report to check precision, recall & F1 Score"
   ]
  },
  {
   "cell_type": "code",
   "execution_count": 45,
   "metadata": {},
   "outputs": [
    {
     "name": "stdout",
     "output_type": "stream",
     "text": [
      "Classification Report :\n",
      "              precision    recall  f1-score   support\n",
      "\n",
      "           0       0.96      1.00      0.98      1117\n",
      "           1       0.92      0.56      0.70       107\n",
      "\n",
      "    accuracy                           0.96      1224\n",
      "   macro avg       0.94      0.78      0.84      1224\n",
      "weighted avg       0.96      0.96      0.95      1224\n",
      "\n",
      "\n",
      "Model Accuracy Score : 0.9575163398692811\n",
      "\n",
      "Confusion Matrix :\n",
      "[[1112    5]\n",
      " [  47   60]]\n",
      "\n"
     ]
    }
   ],
   "source": [
    "y_pred = best_knn_model.predict(scaled_X_test)\n",
    "knn_clssReport , knn_auc_score, knn_conf_matrix =  modelReport(y_test, y_pred)"
   ]
  },
  {
   "cell_type": "code",
   "execution_count": 46,
   "metadata": {},
   "outputs": [
    {
     "name": "stdout",
     "output_type": "stream",
     "text": [
      "ROC curv : 0.9186238171336775\n"
     ]
    }
   ],
   "source": [
    "knn_fP_rate, knn_tP_rate, knn_threshold, knn_roc_auc = roc_curve_report(best_knn_model, scaled_X_test, y_test)"
   ]
  },
  {
   "cell_type": "markdown",
   "metadata": {},
   "source": [
    "After tuning the accuracyt is way better now"
   ]
  },
  {
   "cell_type": "markdown",
   "metadata": {},
   "source": [
    "\n",
    "## Build Naive Bayes Classifier on training Dataset and explain why that algorithm in the comment lines"
   ]
  },
  {
   "cell_type": "markdown",
   "metadata": {},
   "source": [
    "we can consider Naive Bayes because \n",
    "- Bayes theorem uses the conditional probability of an event. Events should be mutually exclusive like throwing a dice.\n",
    "- Bayes Theorem assumes predictors or input features are independent of each other.\n",
    "- Bayesian probability relates to the degree of belief. It gives the likelihood of an event to occur. It does this with prior knowledge of the condition related to the event"
   ]
  },
  {
   "cell_type": "code",
   "execution_count": 47,
   "metadata": {},
   "outputs": [],
   "source": [
    "from sklearn.naive_bayes import GaussianNB "
   ]
  },
  {
   "cell_type": "code",
   "execution_count": 48,
   "metadata": {},
   "outputs": [
    {
     "data": {
      "text/plain": [
       "GaussianNB(priors=None, var_smoothing=1e-09)"
      ]
     },
     "execution_count": 48,
     "metadata": {},
     "output_type": "execute_result"
    }
   ],
   "source": [
    "naive_model = GaussianNB()\n",
    "naive_model.fit(scaled_X_train , y_train)"
   ]
  },
  {
   "cell_type": "code",
   "execution_count": 49,
   "metadata": {},
   "outputs": [
    {
     "name": "stdout",
     "output_type": "stream",
     "text": [
      "ROC curv : 0.9277939072448732\n"
     ]
    }
   ],
   "source": [
    "fP_rate, tP_rate, threshold, roc_auc = roc_curve_report(naive_model, scaled_X_test, y_test)"
   ]
  },
  {
   "cell_type": "markdown",
   "metadata": {},
   "source": [
    "## Print the accuracy of the model & confusion Matrix for Naïve Bayes Model."
   ]
  },
  {
   "cell_type": "code",
   "execution_count": 50,
   "metadata": {},
   "outputs": [
    {
     "name": "stdout",
     "output_type": "stream",
     "text": [
      "Classification Report :\n",
      "              precision    recall  f1-score   support\n",
      "\n",
      "           0       0.96      0.92      0.94      1117\n",
      "           1       0.43      0.60      0.50       107\n",
      "\n",
      "    accuracy                           0.89      1224\n",
      "   macro avg       0.69      0.76      0.72      1224\n",
      "weighted avg       0.91      0.89      0.90      1224\n",
      "\n",
      "\n",
      "Model Accuracy Score : 0.8946078431372549\n",
      "\n",
      "Confusion Matrix :\n",
      "[[1031   86]\n",
      " [  43   64]]\n",
      "\n"
     ]
    }
   ],
   "source": [
    "y_pred = naive_model.predict(scaled_X_test)\n",
    "clssReport , auc_score, conf_matrix = modelReport(y_test, y_pred)"
   ]
  },
  {
   "cell_type": "markdown",
   "metadata": {},
   "source": [
    "## Explain Precision, Recall value & F1 Score using the classification report"
   ]
  },
  {
   "cell_type": "markdown",
   "metadata": {},
   "source": [
    "so with the above classification report for naive Byas model, we can say that \n",
    "- Pression  : 96% of our predictions were correct\n",
    "- recall : 92%  of the positive cases did you catch\n",
    "- f1-score : 94% of positive predictions were correct"
   ]
  },
  {
   "cell_type": "markdown",
   "metadata": {},
   "source": [
    "## Calculate the fpr and tpr for all thresholds of the classification."
   ]
  },
  {
   "cell_type": "markdown",
   "metadata": {},
   "source": [
    " [note: method has be defined in  above  cell]\n",
    " \n",
    "*calculation code you can find it above*\n",
    "\n",
    "`falsePositive_rate, truePositive_rate, threshold = roc_curve(y_test, model_prob[:,1])`\n",
    "\n",
    " refer : `roc_curve_report()` method \n"
   ]
  },
  {
   "cell_type": "code",
   "execution_count": 51,
   "metadata": {
    "scrolled": true
   },
   "outputs": [
    {
     "name": "stdout",
     "output_type": "stream",
     "text": [
      "ROC curv : 0.9277939072448732\n",
      "False Positive rate \n",
      ":[0.00000000e+00 0.00000000e+00 8.95255148e-04 8.95255148e-04\n",
      " 1.79051030e-03 1.79051030e-03 2.68576544e-03 2.68576544e-03\n",
      " 3.58102059e-03 3.58102059e-03 4.47627574e-03 4.47627574e-03\n",
      " 7.16204118e-03 7.16204118e-03 8.05729633e-03 8.05729633e-03\n",
      " 8.95255148e-03 8.95255148e-03 9.84780662e-03 9.84780662e-03\n",
      " 1.07430618e-02 1.07430618e-02 1.70098478e-02 1.70098478e-02\n",
      " 2.86481647e-02 2.86481647e-02 3.13339302e-02 3.13339302e-02\n",
      " 3.58102059e-02 3.58102059e-02 4.11817368e-02 4.11817368e-02\n",
      " 4.56580125e-02 4.56580125e-02 4.65532677e-02 4.65532677e-02\n",
      " 5.01342883e-02 5.01342883e-02 5.55058192e-02 5.55058192e-02\n",
      " 5.90868397e-02 5.90868397e-02 6.62488809e-02 6.62488809e-02\n",
      " 6.89346464e-02 6.89346464e-02 6.98299015e-02 6.98299015e-02\n",
      " 7.07251567e-02 7.07251567e-02 7.25156670e-02 7.25156670e-02\n",
      " 7.34109221e-02 7.34109221e-02 7.52014324e-02 7.52014324e-02\n",
      " 7.78871979e-02 7.78871979e-02 8.50492390e-02 8.50492390e-02\n",
      " 8.59444942e-02 8.59444942e-02 8.77350045e-02 8.77350045e-02\n",
      " 9.04207699e-02 9.04207699e-02 9.22112802e-02 9.22112802e-02\n",
      " 9.31065354e-02 9.31065354e-02 1.01163832e-01 1.01163832e-01\n",
      " 1.02059087e-01 1.02059087e-01 1.04744852e-01 1.04744852e-01\n",
      " 1.07430618e-01 1.07430618e-01 1.11011638e-01 1.11011638e-01\n",
      " 1.12802149e-01 1.12802149e-01 1.16383169e-01 1.16383169e-01\n",
      " 1.17278424e-01 1.17278424e-01 1.20859445e-01 1.20859445e-01\n",
      " 1.25335721e-01 1.25335721e-01 1.31602507e-01 1.31602507e-01\n",
      " 1.38764548e-01 1.38764548e-01 1.49507610e-01 1.49507610e-01\n",
      " 1.53088630e-01 1.53088630e-01 1.55774396e-01 1.55774396e-01\n",
      " 1.59355416e-01 1.59355416e-01 1.62041182e-01 1.62041182e-01\n",
      " 1.69203223e-01 1.69203223e-01 1.88003581e-01 1.88003581e-01\n",
      " 2.02327663e-01 2.02327663e-01 2.17547001e-01 2.17547001e-01\n",
      " 2.29185318e-01 2.29185318e-01 2.52461952e-01 2.52461952e-01\n",
      " 2.57833483e-01 2.57833483e-01 3.24977619e-01 3.24977619e-01\n",
      " 4.16293644e-01 4.16293644e-01 1.00000000e+00]\n",
      "True Positive rate \n",
      ":[0.         0.00934579 0.00934579 0.02803738 0.02803738 0.14018692\n",
      " 0.14018692 0.21495327 0.21495327 0.25233645 0.25233645 0.26168224\n",
      " 0.26168224 0.28037383 0.28037383 0.28971963 0.28971963 0.29906542\n",
      " 0.29906542 0.30841121 0.30841121 0.3271028  0.3271028  0.34579439\n",
      " 0.34579439 0.35514019 0.35514019 0.37383178 0.37383178 0.39252336\n",
      " 0.39252336 0.40186916 0.40186916 0.41121495 0.41121495 0.43925234\n",
      " 0.43925234 0.44859813 0.44859813 0.45794393 0.45794393 0.46728972\n",
      " 0.46728972 0.47663551 0.47663551 0.5046729  0.5046729  0.51401869\n",
      " 0.51401869 0.57009346 0.57009346 0.57943925 0.57943925 0.58878505\n",
      " 0.58878505 0.59813084 0.59813084 0.63551402 0.63551402 0.64485981\n",
      " 0.64485981 0.6635514  0.6635514  0.6728972  0.6728972  0.70093458\n",
      " 0.70093458 0.71028037 0.71028037 0.71962617 0.71962617 0.72897196\n",
      " 0.72897196 0.74766355 0.74766355 0.75700935 0.75700935 0.77570093\n",
      " 0.77570093 0.78504673 0.78504673 0.79439252 0.79439252 0.80373832\n",
      " 0.80373832 0.81308411 0.81308411 0.8317757  0.8317757  0.8411215\n",
      " 0.8411215  0.85046729 0.85046729 0.85981308 0.85981308 0.86915888\n",
      " 0.86915888 0.88785047 0.88785047 0.89719626 0.89719626 0.90654206\n",
      " 0.90654206 0.91588785 0.91588785 0.92523364 0.92523364 0.93457944\n",
      " 0.93457944 0.94392523 0.94392523 0.95327103 0.95327103 0.96261682\n",
      " 0.96261682 0.97196262 0.97196262 0.98130841 0.98130841 0.99065421\n",
      " 0.99065421 1.         1.        ]\n",
      "threshold rate \n",
      ":[1.99999986e+00 9.99999861e-01 9.99999808e-01 9.99999731e-01\n",
      " 9.99999543e-01 9.99993932e-01 9.99993701e-01 9.99978499e-01\n",
      " 9.99966840e-01 9.99920687e-01 9.99919261e-01 9.99900318e-01\n",
      " 9.99872421e-01 9.99802230e-01 9.99760102e-01 9.99621640e-01\n",
      " 9.99563356e-01 9.99527991e-01 9.99485518e-01 9.99463555e-01\n",
      " 9.99454445e-01 9.99379595e-01 9.98209476e-01 9.97573066e-01\n",
      " 9.92491749e-01 9.90897459e-01 9.87372482e-01 9.85884697e-01\n",
      " 9.79855263e-01 9.78863772e-01 9.70407149e-01 9.68887719e-01\n",
      " 9.54444293e-01 9.47500368e-01 9.36048338e-01 9.23467436e-01\n",
      " 9.18259966e-01 9.16195027e-01 8.94308651e-01 8.91139134e-01\n",
      " 8.76234828e-01 8.75421592e-01 8.04008649e-01 7.99337659e-01\n",
      " 7.51822737e-01 6.81285565e-01 6.65716190e-01 6.48307586e-01\n",
      " 6.26596185e-01 5.71402751e-01 5.57139052e-01 5.53193459e-01\n",
      " 5.52381764e-01 5.51406138e-01 5.29366504e-01 5.27223783e-01\n",
      " 4.73846767e-01 4.22784259e-01 3.38646685e-01 3.37211192e-01\n",
      " 3.29601402e-01 3.12895280e-01 3.11694603e-01 3.05117860e-01\n",
      " 2.74629471e-01 2.56899760e-01 2.46582833e-01 2.28549924e-01\n",
      " 2.20727860e-01 2.20215393e-01 1.48069730e-01 1.47441166e-01\n",
      " 1.40173234e-01 1.29001596e-01 1.12652934e-01 1.12404009e-01\n",
      " 1.07035830e-01 1.02876597e-01 9.19787353e-02 9.16416803e-02\n",
      " 8.89535852e-02 8.62690117e-02 8.24430144e-02 7.99546536e-02\n",
      " 7.90591394e-02 7.71646605e-02 7.42897984e-02 6.98194747e-02\n",
      " 6.06997983e-02 5.91084597e-02 5.54544432e-02 5.38048437e-02\n",
      " 4.82437563e-02 4.81567143e-02 4.05399961e-02 3.92154608e-02\n",
      " 3.44585225e-02 3.28223567e-02 3.02113157e-02 3.00021284e-02\n",
      " 2.88002003e-02 2.78431689e-02 2.68507396e-02 2.47121288e-02\n",
      " 2.10553746e-02 2.09074115e-02 1.49123822e-02 1.48785012e-02\n",
      " 1.20674160e-02 1.17937041e-02 8.51347960e-03 8.40625078e-03\n",
      " 7.32257790e-03 7.08968610e-03 5.17415094e-03 5.12914167e-03\n",
      " 4.95342012e-03 4.84706675e-03 2.61733945e-03 2.60375902e-03\n",
      " 1.06416601e-03 1.06261385e-03 6.88546641e-07]\n"
     ]
    }
   ],
   "source": [
    "fP_rate, tP_rate, threshold, roc_auc =roc_curve_report(naive_model, scaled_X_test, y_test)\n",
    "print(f'False Positive rate \\n:{fP_rate}')\n",
    "print(f'True Positive rate \\n:{tP_rate}')\n",
    "print(f'threshold rate \\n:{threshold}')"
   ]
  },
  {
   "cell_type": "markdown",
   "metadata": {},
   "source": [
    "## Firstly, calculate the probabilities of predictions made & then plot the ROC Curve"
   ]
  },
  {
   "cell_type": "markdown",
   "metadata": {},
   "source": [
    "[note: method has be defined in  above  cell]\n",
    "\n",
    "*way used to calculate the probablity*\n",
    "`roc_auc = auc(falsePositive_rate, truePositive_rate)`"
   ]
  },
  {
   "cell_type": "code",
   "execution_count": 52,
   "metadata": {},
   "outputs": [
    {
     "name": "stdout",
     "output_type": "stream",
     "text": [
      "ROC curv : 0.9277939072448732\n"
     ]
    }
   ],
   "source": [
    "naive_fP_rate, naive_tP_rate, naive_threshold, naive_roc_auc = roc_curve_report(naive_model, scaled_X_test, y_test)"
   ]
  },
  {
   "cell_type": "code",
   "execution_count": 53,
   "metadata": {},
   "outputs": [],
   "source": [
    "def plot_roc_cur(false_positive_rate, true_positive_rate):  \n",
    "    plt.plot(false_positive_rate, true_positive_rate, color='orange', label='ROC')\n",
    "    plt.plot([0, 1], [0, 1], color='darkblue', linestyle='--')\n",
    "    plt.xlabel('False Positive Rate')\n",
    "    plt.ylabel('True Positive Rate')\n",
    "    plt.title('Receiver Operating Characteristic (ROC) Curve')\n",
    "    plt.legend()\n",
    "    plt.show()"
   ]
  },
  {
   "cell_type": "code",
   "execution_count": 54,
   "metadata": {},
   "outputs": [
    {
     "data": {
      "image/png": "[encoded data removed]",
      "text/plain": [
       "<Figure size 432x288 with 1 Axes>"
      ]
     },
     "metadata": {
      "needs_background": "light"
     },
     "output_type": "display_data"
    }
   ],
   "source": [
    "plot_roc_cur(naive_fP_rate, naive_tP_rate)"
   ]
  },
  {
   "cell_type": "markdown",
   "metadata": {},
   "source": [
    "92 percent of Area under curv AUC which is okay \n"
   ]
  },
  {
   "cell_type": "markdown",
   "metadata": {},
   "source": [
    "## Evaluate the model. Use confusion matrix to evaluate class level metrics i.e.. Precision and recall. Also reflect the overall score of the model."
   ]
  },
  {
   "cell_type": "code",
   "execution_count": 55,
   "metadata": {},
   "outputs": [
    {
     "data": {
      "image/png": "[encoded data removed]",
      "text/plain": [
       "<Figure size 432x288 with 2 Axes>"
      ]
     },
     "metadata": {
      "needs_background": "light"
     },
     "output_type": "display_data"
    }
   ],
   "source": [
    "sns.heatmap(conf_matrix,annot = True);\n",
    "# from sklearn.metrics import plot_confusion_matrix\n",
    "# plot_confusion_matrix(naive_model, scaled_X_test, y_test,\n",
    "#                                  cmap=plt.cm.Blues)"
   ]
  },
  {
   "cell_type": "code",
   "execution_count": 56,
   "metadata": {},
   "outputs": [
    {
     "name": "stdout",
     "output_type": "stream",
     "text": [
      "Classification Report :\n",
      "              precision    recall  f1-score   support\n",
      "\n",
      "           0       0.96      0.92      0.94      1117\n",
      "           1       0.43      0.60      0.50       107\n",
      "\n",
      "    accuracy                           0.89      1224\n",
      "   macro avg       0.69      0.76      0.72      1224\n",
      "weighted avg       0.91      0.89      0.90      1224\n",
      "\n",
      "\n",
      "Model Accuracy Score : 0.8946078431372549\n",
      "\n",
      "Confusion Matrix :\n",
      "[[1031   86]\n",
      " [  43   64]]\n",
      "\n"
     ]
    }
   ],
   "source": [
    "naive_clssReport , naive_auc_score, naive_matrix = modelReport(y_test, y_pred)"
   ]
  },
  {
   "cell_type": "markdown",
   "metadata": {},
   "source": [
    "## Print classification Report for precision, recall & f-1Score for all the models and evaluate them with proper insights"
   ]
  },
  {
   "cell_type": "markdown",
   "metadata": {},
   "source": [
    "### Naive Bayes"
   ]
  },
  {
   "cell_type": "code",
   "execution_count": 57,
   "metadata": {},
   "outputs": [
    {
     "name": "stdout",
     "output_type": "stream",
     "text": [
      "              precision    recall  f1-score   support\n",
      "\n",
      "           0       0.96      0.92      0.94      1117\n",
      "           1       0.43      0.60      0.50       107\n",
      "\n",
      "    accuracy                           0.89      1224\n",
      "   macro avg       0.69      0.76      0.72      1224\n",
      "weighted avg       0.91      0.89      0.90      1224\n",
      "\n"
     ]
    }
   ],
   "source": [
    "print(naive_clssReport)"
   ]
  },
  {
   "cell_type": "markdown",
   "metadata": {},
   "source": [
    "so with the above classification report for naive Byas model, we can say that \n",
    "- Pression  : 96% of our predictions were correct\n",
    "- recall : 92%  of the positive cases did you catch\n",
    "- f1-score : 94% of positive predictions were correct"
   ]
  },
  {
   "cell_type": "markdown",
   "metadata": {},
   "source": [
    "### K-Nearest Neighbour"
   ]
  },
  {
   "cell_type": "code",
   "execution_count": 58,
   "metadata": {},
   "outputs": [
    {
     "name": "stdout",
     "output_type": "stream",
     "text": [
      "              precision    recall  f1-score   support\n",
      "\n",
      "           0       0.96      1.00      0.98      1117\n",
      "           1       0.92      0.56      0.70       107\n",
      "\n",
      "    accuracy                           0.96      1224\n",
      "   macro avg       0.94      0.78      0.84      1224\n",
      "weighted avg       0.96      0.96      0.95      1224\n",
      "\n"
     ]
    }
   ],
   "source": [
    "print(knn_clssReport)"
   ]
  },
  {
   "cell_type": "markdown",
   "metadata": {},
   "source": [
    "so with the above classification report for K-Nearest Neighbous model, we can say that \n",
    "- Pression  : 96% of our predictions were correct\n",
    "- recall : 100%  of the positive cases did you catch\n",
    "- f1-score : 98% of positive predictions were correct"
   ]
  },
  {
   "cell_type": "markdown",
   "metadata": {},
   "source": [
    "### Logistic Regression "
   ]
  },
  {
   "cell_type": "code",
   "execution_count": 59,
   "metadata": {},
   "outputs": [
    {
     "name": "stdout",
     "output_type": "stream",
     "text": [
      "              precision    recall  f1-score   support\n",
      "\n",
      "           0       0.96      0.99      0.98      1117\n",
      "           1       0.82      0.62      0.71       107\n",
      "\n",
      "    accuracy                           0.96      1224\n",
      "   macro avg       0.89      0.80      0.84      1224\n",
      "weighted avg       0.95      0.96      0.95      1224\n",
      "\n"
     ]
    }
   ],
   "source": [
    "print(log_clssReport)"
   ]
  },
  {
   "cell_type": "markdown",
   "metadata": {},
   "source": [
    "so with the above classification report for Logistic Regressions model, we can say that \n",
    "- Pression  : 96% of our predictions were correct\n",
    "- recall : 99%  of the positive cases did you catch\n",
    "- f1-score : 98% of positive predictions were correct"
   ]
  },
  {
   "cell_type": "markdown",
   "metadata": {},
   "source": [
    "from above all three model accuracy of Naive Bayes model(Navie Bayes might have got good accuracy if we have done some hyperparameter tuning) is 89% and other two model( KNN and Logistic Regresson ) give 96% accuracy , so those two models are good.\n"
   ]
  },
  {
   "cell_type": "markdown",
   "metadata": {},
   "source": [
    "## Roc Curve for Model evaluation and explain the difference among all the models used in your analysis"
   ]
  },
  {
   "cell_type": "markdown",
   "metadata": {},
   "source": [
    "### Roc Curve for Naive Bayes "
   ]
  },
  {
   "cell_type": "code",
   "execution_count": 60,
   "metadata": {},
   "outputs": [
    {
     "data": {
      "image/png": "[encoded data removed]",
      "text/plain": [
       "<Figure size 432x288 with 1 Axes>"
      ]
     },
     "metadata": {
      "needs_background": "light"
     },
     "output_type": "display_data"
    }
   ],
   "source": [
    "plot_roc_cur(naive_fP_rate, naive_tP_rate)"
   ]
  },
  {
   "cell_type": "markdown",
   "metadata": {},
   "source": [
    "### Roc Curve for KNN"
   ]
  },
  {
   "cell_type": "code",
   "execution_count": 61,
   "metadata": {},
   "outputs": [
    {
     "data": {
      "image/png": "[encoded data removed]",
      "text/plain": [
       "<Figure size 432x288 with 1 Axes>"
      ]
     },
     "metadata": {
      "needs_background": "light"
     },
     "output_type": "display_data"
    }
   ],
   "source": [
    "plot_roc_cur(knn_fP_rate, knn_tP_rate)"
   ]
  },
  {
   "cell_type": "markdown",
   "metadata": {},
   "source": [
    "### Roc Curve for Logistic Regession"
   ]
  },
  {
   "cell_type": "code",
   "execution_count": 62,
   "metadata": {},
   "outputs": [
    {
     "data": {
      "image/png": "[encoded data removed]",
      "text/plain": [
       "<Figure size 432x288 with 1 Axes>"
      ]
     },
     "metadata": {
      "needs_background": "light"
     },
     "output_type": "display_data"
    }
   ],
   "source": [
    "plot_roc_cur(log_fP_rate, log_tP_rate)"
   ]
  },
  {
   "cell_type": "markdown",
   "metadata": {},
   "source": [
    "with all this graph ae can we can see that all area under the curve are\n",
    "- naive  bayes :0.9277939072448732\n",
    "- logistics regression :0.9544758573950585\n",
    "- knn : 0.9186238171336775\n"
   ]
  },
  {
   "cell_type": "markdown",
   "metadata": {},
   "source": [
    "## Calculate the fpr and tpr for all thresholds of the classification"
   ]
  },
  {
   "cell_type": "code",
   "execution_count": 63,
   "metadata": {},
   "outputs": [],
   "source": [
    "from sklearn.metrics import plot_roc_curve"
   ]
  },
  {
   "cell_type": "code",
   "execution_count": 64,
   "metadata": {},
   "outputs": [
    {
     "data": {
      "image/png": "[encoded data removed]",
      "text/plain": [
       "<Figure size 432x288 with 1 Axes>"
      ]
     },
     "metadata": {
      "needs_background": "light"
     },
     "output_type": "display_data"
    }
   ],
   "source": [
    "ax = plt.gca()\n",
    "knn_roc_disp = plot_roc_curve(best_knn_model, scaled_X_test, y_test, ax=ax)\n",
    "log_roc_disp = plot_roc_curve(best_logReg_model, scaled_X_test, y_test, ax=ax)\n",
    "naive_roc_disp = plot_roc_curve(naive_model, scaled_X_test, y_test, ax=ax)"
   ]
  },
  {
   "cell_type": "markdown",
   "metadata": {},
   "source": [
    "based on the Graph we can  depends on what trade-off you prefer. wehther you want Precision/low Recall or low Precision/high Recall "
   ]
  },
  {
   "cell_type": "markdown",
   "metadata": {},
   "source": [
    "## Discuss some of the key hyper parameters available for the selected algorithm. What values did you initialize these parameters to?"
   ]
  },
  {
   "cell_type": "markdown",
   "metadata": {},
   "source": [
    "### K Nerest neighbors"
   ]
  },
  {
   "cell_type": "markdown",
   "metadata": {},
   "source": [
    "for this model main hyperparameter is considered to be K value.\n",
    "- algorithm : {‘auto’, ‘ball_tree’, ‘kd_tree’, ‘brute’}\n",
    "- metric : \"euclidean\",'cityblock',  minkowski, precomputed\n",
    "\n",
    "I have used this folowing parameter for GridSearchCV"
   ]
  },
  {
   "cell_type": "markdown",
   "metadata": {},
   "source": [
    "`{'n_neighbors':[1,5,7,9,11,13,25],'metric':[\"euclidean\",'cityblock']}`"
   ]
  },
  {
   "cell_type": "markdown",
   "metadata": {},
   "source": [
    "### Logistic Regression\n",
    "for the Logistic Regression \n",
    "- penalty : values are C\n",
    "- c value : 'l1', 'l2', 'elasticnet'\n",
    "\n",
    "i have use below parameter for my model "
   ]
  },
  {
   "cell_type": "markdown",
   "metadata": {},
   "source": [
    "`{'C': array([1.00000000e+00, 2.78255940e+00, 7.74263683e+00, 2.15443469e+01,\n",
    "       5.99484250e+01, 1.66810054e+02, 4.64158883e+02, 1.29154967e+03,\n",
    "       3.59381366e+03, 1.00000000e+04]), 'penalty': ['l1', 'l2', 'elasticnet']}`"
   ]
  },
  {
   "cell_type": "markdown",
   "metadata": {},
   "source": [
    "## Regularization techniques used for the model."
   ]
  },
  {
   "cell_type": "markdown",
   "metadata": {},
   "source": [
    "Some of the Regularization techniques used in this models are removing outliers and scaling the data ( preprocessing)\n",
    "otherwise the data didn't not required much Regularization , as we can see from the accurecy  from test vs train data is almost similar"
   ]
  },
  {
   "cell_type": "markdown",
   "metadata": {},
   "source": [
    "## Range estimate at 95% confidence for the model performance in production."
   ]
  },
  {
   "cell_type": "code",
   "execution_count": 65,
   "metadata": {},
   "outputs": [
    {
     "data": {
      "text/html": [
       "<div>\n",
       "<style scoped>\n",
       "    .dataframe tbody tr th:only-of-type {\n",
       "        vertical-align: middle;\n",
       "    }\n",
       "\n",
       "    .dataframe tbody tr th {\n",
       "        vertical-align: top;\n",
       "    }\n",
       "\n",
       "    .dataframe thead th {\n",
       "        text-align: right;\n",
       "    }\n",
       "</style>\n",
       "<table border=\"1\" class=\"dataframe\">\n",
       "  <thead>\n",
       "    <tr style=\"text-align: right;\">\n",
       "      <th></th>\n",
       "      <th>ID</th>\n",
       "      <th>Age</th>\n",
       "      <th>Experience</th>\n",
       "      <th>Income</th>\n",
       "      <th>ZIP Code</th>\n",
       "      <th>Family</th>\n",
       "      <th>CCAvg</th>\n",
       "      <th>Education</th>\n",
       "      <th>Mortgage</th>\n",
       "      <th>Personal Loan</th>\n",
       "      <th>Securities Account</th>\n",
       "      <th>CD Account</th>\n",
       "      <th>Online</th>\n",
       "      <th>CreditCard</th>\n",
       "    </tr>\n",
       "  </thead>\n",
       "  <tbody>\n",
       "    <tr>\n",
       "      <th>count</th>\n",
       "      <td>4895.000000</td>\n",
       "      <td>4895.000000</td>\n",
       "      <td>4895.000000</td>\n",
       "      <td>4895.000000</td>\n",
       "      <td>4895.000000</td>\n",
       "      <td>4895.000000</td>\n",
       "      <td>4895.000000</td>\n",
       "      <td>4895.000000</td>\n",
       "      <td>4895.000000</td>\n",
       "      <td>4895.000000</td>\n",
       "      <td>4895.000000</td>\n",
       "      <td>4895.000000</td>\n",
       "      <td>4895.000000</td>\n",
       "      <td>4895.000000</td>\n",
       "    </tr>\n",
       "    <tr>\n",
       "      <th>mean</th>\n",
       "      <td>2501.736057</td>\n",
       "      <td>45.342594</td>\n",
       "      <td>20.106027</td>\n",
       "      <td>72.010623</td>\n",
       "      <td>93154.203269</td>\n",
       "      <td>2.401634</td>\n",
       "      <td>1.900172</td>\n",
       "      <td>1.887436</td>\n",
       "      <td>48.017773</td>\n",
       "      <td>0.088458</td>\n",
       "      <td>0.104392</td>\n",
       "      <td>0.057610</td>\n",
       "      <td>0.596527</td>\n",
       "      <td>0.294791</td>\n",
       "    </tr>\n",
       "    <tr>\n",
       "      <th>std</th>\n",
       "      <td>1445.534182</td>\n",
       "      <td>11.463954</td>\n",
       "      <td>11.470258</td>\n",
       "      <td>44.717543</td>\n",
       "      <td>2127.047673</td>\n",
       "      <td>1.149651</td>\n",
       "      <td>1.709268</td>\n",
       "      <td>0.839485</td>\n",
       "      <td>83.849944</td>\n",
       "      <td>0.283988</td>\n",
       "      <td>0.305800</td>\n",
       "      <td>0.233028</td>\n",
       "      <td>0.490644</td>\n",
       "      <td>0.455995</td>\n",
       "    </tr>\n",
       "    <tr>\n",
       "      <th>min</th>\n",
       "      <td>1.000000</td>\n",
       "      <td>23.000000</td>\n",
       "      <td>-3.000000</td>\n",
       "      <td>8.000000</td>\n",
       "      <td>9307.000000</td>\n",
       "      <td>1.000000</td>\n",
       "      <td>0.000000</td>\n",
       "      <td>1.000000</td>\n",
       "      <td>0.000000</td>\n",
       "      <td>0.000000</td>\n",
       "      <td>0.000000</td>\n",
       "      <td>0.000000</td>\n",
       "      <td>0.000000</td>\n",
       "      <td>0.000000</td>\n",
       "    </tr>\n",
       "    <tr>\n",
       "      <th>25%</th>\n",
       "      <td>1247.500000</td>\n",
       "      <td>35.000000</td>\n",
       "      <td>10.000000</td>\n",
       "      <td>38.000000</td>\n",
       "      <td>91942.000000</td>\n",
       "      <td>1.000000</td>\n",
       "      <td>0.700000</td>\n",
       "      <td>1.000000</td>\n",
       "      <td>0.000000</td>\n",
       "      <td>0.000000</td>\n",
       "      <td>0.000000</td>\n",
       "      <td>0.000000</td>\n",
       "      <td>0.000000</td>\n",
       "      <td>0.000000</td>\n",
       "    </tr>\n",
       "    <tr>\n",
       "      <th>50%</th>\n",
       "      <td>2498.000000</td>\n",
       "      <td>45.000000</td>\n",
       "      <td>20.000000</td>\n",
       "      <td>63.000000</td>\n",
       "      <td>93437.000000</td>\n",
       "      <td>2.000000</td>\n",
       "      <td>1.500000</td>\n",
       "      <td>2.000000</td>\n",
       "      <td>0.000000</td>\n",
       "      <td>0.000000</td>\n",
       "      <td>0.000000</td>\n",
       "      <td>0.000000</td>\n",
       "      <td>1.000000</td>\n",
       "      <td>0.000000</td>\n",
       "    </tr>\n",
       "    <tr>\n",
       "      <th>75%</th>\n",
       "      <td>3757.500000</td>\n",
       "      <td>55.000000</td>\n",
       "      <td>30.000000</td>\n",
       "      <td>93.000000</td>\n",
       "      <td>94608.000000</td>\n",
       "      <td>3.000000</td>\n",
       "      <td>2.500000</td>\n",
       "      <td>3.000000</td>\n",
       "      <td>94.000000</td>\n",
       "      <td>0.000000</td>\n",
       "      <td>0.000000</td>\n",
       "      <td>0.000000</td>\n",
       "      <td>1.000000</td>\n",
       "      <td>1.000000</td>\n",
       "    </tr>\n",
       "    <tr>\n",
       "      <th>max</th>\n",
       "      <td>5000.000000</td>\n",
       "      <td>67.000000</td>\n",
       "      <td>43.000000</td>\n",
       "      <td>224.000000</td>\n",
       "      <td>96651.000000</td>\n",
       "      <td>4.000000</td>\n",
       "      <td>10.000000</td>\n",
       "      <td>3.000000</td>\n",
       "      <td>361.000000</td>\n",
       "      <td>1.000000</td>\n",
       "      <td>1.000000</td>\n",
       "      <td>1.000000</td>\n",
       "      <td>1.000000</td>\n",
       "      <td>1.000000</td>\n",
       "    </tr>\n",
       "  </tbody>\n",
       "</table>\n",
       "</div>"
      ],
      "text/plain": [
       "                ID          Age   Experience       Income      ZIP Code  \\\n",
       "count  4895.000000  4895.000000  4895.000000  4895.000000   4895.000000   \n",
       "mean   2501.736057    45.342594    20.106027    72.010623  93154.203269   \n",
       "std    1445.534182    11.463954    11.470258    44.717543   2127.047673   \n",
       "min       1.000000    23.000000    -3.000000     8.000000   9307.000000   \n",
       "25%    1247.500000    35.000000    10.000000    38.000000  91942.000000   \n",
       "50%    2498.000000    45.000000    20.000000    63.000000  93437.000000   \n",
       "75%    3757.500000    55.000000    30.000000    93.000000  94608.000000   \n",
       "max    5000.000000    67.000000    43.000000   224.000000  96651.000000   \n",
       "\n",
       "            Family        CCAvg    Education     Mortgage  Personal Loan  \\\n",
       "count  4895.000000  4895.000000  4895.000000  4895.000000    4895.000000   \n",
       "mean      2.401634     1.900172     1.887436    48.017773       0.088458   \n",
       "std       1.149651     1.709268     0.839485    83.849944       0.283988   \n",
       "min       1.000000     0.000000     1.000000     0.000000       0.000000   \n",
       "25%       1.000000     0.700000     1.000000     0.000000       0.000000   \n",
       "50%       2.000000     1.500000     2.000000     0.000000       0.000000   \n",
       "75%       3.000000     2.500000     3.000000    94.000000       0.000000   \n",
       "max       4.000000    10.000000     3.000000   361.000000       1.000000   \n",
       "\n",
       "       Securities Account   CD Account       Online   CreditCard  \n",
       "count         4895.000000  4895.000000  4895.000000  4895.000000  \n",
       "mean             0.104392     0.057610     0.596527     0.294791  \n",
       "std              0.305800     0.233028     0.490644     0.455995  \n",
       "min              0.000000     0.000000     0.000000     0.000000  \n",
       "25%              0.000000     0.000000     0.000000     0.000000  \n",
       "50%              0.000000     0.000000     1.000000     0.000000  \n",
       "75%              0.000000     0.000000     1.000000     1.000000  \n",
       "max              1.000000     1.000000     1.000000     1.000000  "
      ]
     },
     "execution_count": 65,
     "metadata": {},
     "output_type": "execute_result"
    }
   ],
   "source": [
    "ALPHA=0.05\n",
    "bank_dataFrame.describe()"
   ]
  },
  {
   "cell_type": "code",
   "execution_count": 66,
   "metadata": {},
   "outputs": [],
   "source": [
    "from scipy import mean\n",
    "mean = mean(bank_dataFrame)\n",
    "n = len(bank_dataFrame)\n",
    "std_err = stats.sem(bank_dataFrame)\n",
    "h = std_err * stats.t.ppf((1 + ALPHA) / 2, n - 1)"
   ]
  },
  {
   "cell_type": "code",
   "execution_count": 67,
   "metadata": {},
   "outputs": [],
   "source": [
    "start = mean - h\n",
    "end = mean + h"
   ]
  },
  {
   "cell_type": "code",
   "execution_count": 68,
   "metadata": {},
   "outputs": [
    {
     "name": "stdout",
     "output_type": "stream",
     "text": [
      "ID                     2500.440404\n",
      "Age                      45.332319\n",
      "Experience               20.095746\n",
      "Income                   71.970542\n",
      "ZIP Code              93152.296765\n",
      "Family                    2.400604\n",
      "CCAvg                     1.898640\n",
      "Education                 1.886684\n",
      "Mortgage                 47.942617\n",
      "Personal Loan             0.088203\n",
      "Securities Account        0.104118\n",
      "CD Account                0.057401\n",
      "Online                    0.596087\n",
      "CreditCard                0.294382\n",
      "dtype: float64\n"
     ]
    }
   ],
   "source": [
    "print(start)"
   ]
  },
  {
   "cell_type": "code",
   "execution_count": 69,
   "metadata": {},
   "outputs": [
    {
     "name": "stdout",
     "output_type": "stream",
     "text": [
      "ID                     2503.031710\n",
      "Age                      45.352870\n",
      "Experience               20.116308\n",
      "Income                   72.050704\n",
      "ZIP Code              93156.109772\n",
      "Family                    2.402665\n",
      "CCAvg                     1.901704\n",
      "Education                 1.888189\n",
      "Mortgage                 48.092929\n",
      "Personal Loan             0.088712\n",
      "Securities Account        0.104666\n",
      "CD Account                0.057819\n",
      "Online                    0.596967\n",
      "CreditCard                0.295199\n",
      "dtype: float64\n"
     ]
    }
   ],
   "source": [
    "print(end)"
   ]
  },
  {
   "cell_type": "markdown",
   "metadata": {},
   "source": [
    "# Conclusion\n",
    "\n",
    "now we know the differnce and trade of KNN works better so , we use that model to classify the customer to predict whether to accept or reject the presonal Loan Request "
   ]
  },
  {
   "cell_type": "code",
   "execution_count": null,
   "metadata": {},
   "outputs": [],
   "source": []
  },
  {
   "cell_type": "code",
   "execution_count": null,
   "metadata": {},
   "outputs": [],
   "source": []
  }
 ],
 "metadata": {
  "kernelspec": {
   "display_name": "Python 3",
   "language": "python",
   "name": "python3"
  },
  "language_info": {
   "codemirror_mode": {
    "name": "ipython",
    "version": 3
   },
   "file_extension": ".py",
   "mimetype": "text/x-python",
   "name": "python",
   "nbconvert_exporter": "python",
   "pygments_lexer": "ipython3",
   "version": "3.8.5"
  },
  "toc": {
   "base_numbering": 1,
   "nav_menu": {},
   "number_sections": true,
   "sideBar": true,
   "skip_h1_title": false,
   "title_cell": "Table of Contents",
   "title_sidebar": "Contents",
   "toc_cell": false,
   "toc_position": {},
   "toc_section_display": true,
   "toc_window_display": false
  }
 },
 "nbformat": 4,
 "nbformat_minor": 4
}
